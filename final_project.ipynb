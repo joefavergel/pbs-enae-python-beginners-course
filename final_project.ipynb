{
 "cells": [
  {
   "cell_type": "markdown",
   "id": "59f1c3ee",
   "metadata": {},
   "source": [
    "<img heigth=\"8\" src=\"https://i.imgur.com/BhG5KQ3.png\" alt=\"pbs-enae\">\n",
    "\n",
    "<h1 align=\"left\">Caso Practico Final</h1>\n",
    "\n",
    "<h2 align=\"left\"><i>Aplicando lo aprendido</i></h2>\n",
    "\n",
    "<p align=\"left\">\n",
    "  <h3>Joseph F. Vergel-Becerra | Introducción a Python - Tools and Skill Courses</h3>\n",
    "  <br>\n",
    "  <b>Last updated:</b> <i>15/10/2023</i>\n",
    "  <br><br>\n",
    "</p>\n",
    "<table align=\"left\">\n",
    "  <td>\n",
    "      <a href=\"https://img.shields.io/badge/version-0.1.0-blue.svg?cacheSeconds=2592000\">\n",
    "        <img src=\"https://img.shields.io/badge/version-0.1.0-blue.svg?cacheSeconds=2592000\" alt=\"Version\" height=\"18\">\n",
    "      </a>\n",
    "  </td>\n",
    "</table>\n",
    "<br>\n",
    "<br>\n",
    "\n",
    "---\n",
    "\n",
    "El proyecto final busca evaluar lo aprendido a lo largo de las seis sesiones de clase."
   ]
  },
  {
   "cell_type": "markdown",
   "id": "35bc2126",
   "metadata": {},
   "source": [
    "## 1. Projecto Final\n",
    "\n",
    "Debes desarrollar un función que dado un conjunto de acciones presentes en Yahoo Finance, el usuario pueda configurar los siguientes parámetros:\n",
    "\n",
    "* Diccionario de acciones (`{'NOMBRE_DE_LA_COMPAÑIA': 'TICKER'}`). Tenga en cuenta que cada clave-valor del diccionario, representara una accion de la bolsa.\n",
    "* Fecha inicial.\n",
    "* Fecha final.\n",
    "* Definir entre la desviación estándar (std) o la varianza (var), para el cálculo de la metodología de las bandas de Bollinger.\n",
    "* Ancho (width) de las bandas de Bollinger.\n",
    "* Una tupla de dos números que definan los percentiles a calcular.\n",
    "\n",
    "y ejecutar de forma automática los siguientes pasos:\n",
    "<ol>\n",
    "    <li>Consultar los datos de las acciones utilizando la biblioteca <code>yfinance</code>, para una fecha inicial y una fecha final. Tenga en cuenta que debe funcionar para un diccionario con múltiples acciones.</li><br>\n",
    "    <li>Debe ejecutar para cada acción:\n",
    "        <ol type=\"a\">\n",
    "            <li>Calcular las bandas de bollinger dependiendo de la metodología que definió el usuario (desviación estándar (<code>std</code>) o varianza (<code>var</code>)).</li><br>\n",
    "            <li>Graficar las bandas de bollinger de cada acción, utilizando la biblioteca <code>plotly</code>.</li><br>\n",
    "            <li>El gráfico de dispersión entre el precio de apertura (<code>Open</code>) y el precio de cierre (<code>Close</code>).</li><br>\n",
    "            <li>Graficar el histograma y la función de distribución de probabilidad (PDF por sus sigles en inglés).</li><br>\n",
    "            <li>Calcular e imprimir en pantalla los percentiles definidos por el usuario, para el precio más alto (<code>High</code>) y el precio más bajo (<code>Low</code>).</li><br>\n",
    "        </ol>\n",
    "    </li><br>\n",
    "    <li>Graficar en una única figura el precio de cierre (<code>Close</code>) de las acciones definidas por el usuario en el diccionario de acciones.\n",
    "    </li><br>\n",
    "    <li>Finalmente, integre en único DataFrame los datos de todas las acciones processadas, agregando en los headers del DataFrame la convención de nombramiento <code>'TICKER-NOMBRE-ORIGINAL-COLUMNA'</code>, para una correcta identificación (e.g. para la acción de Apple, las columnas deberían ser <code>['AAPL-Open', 'AAPL-Close', 'AAPL-High', ...]</code>) y retorne de la función el <code>pd.DataFrame</code> unificado.\n",
    "    </li><br>\n",
    "    <li>Por último, exporte el <code>pd.DataFrame</code> retornado que contiene los datos de todas las acciones procesadas, a un archivo tipo Excel (.xlsx) y comprimalo (.zip) junto con el Jupyter notebook (.ipynb) desarrollado. Cargue este archivo ZIP en la plataforma canvas.\n",
    "    </li><br>\n",
    "</ol>"
   ]
  },
  {
   "cell_type": "code",
   "execution_count": null,
   "id": "811c9bd7",
   "metadata": {},
   "outputs": [],
   "source": []
  }
 ],
 "metadata": {
  "kernelspec": {
   "display_name": "pbs",
   "language": "python",
   "name": "pbs"
  },
  "language_info": {
   "codemirror_mode": {
    "name": "ipython",
    "version": 3
   },
   "file_extension": ".py",
   "mimetype": "text/x-python",
   "name": "python",
   "nbconvert_exporter": "python",
   "pygments_lexer": "ipython3",
   "version": "3.9.13"
  }
 },
 "nbformat": 4,
 "nbformat_minor": 5
}
