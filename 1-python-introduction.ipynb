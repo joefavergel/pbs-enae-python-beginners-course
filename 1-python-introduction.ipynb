{
 "cells": [
  {
   "attachments": {},
   "cell_type": "markdown",
   "id": "59f1c3ee",
   "metadata": {},
   "source": [
    "<img heigth=\"8\" src=\"https://i.imgur.com/BhG5KQ3.png\" alt=\"pbs-enae\">\n",
    "\n",
    "<h1 align=\"left\">Introducción a Python</h1>\n",
    "\n",
    "<h2 align=\"left\"><i>Preludio e Introducción al Lenguaje</i></h2>\n",
    "\n",
    "<p align=\"left\">\n",
    "  <h3>Joseph F. Vergel-Becerra | Introducción a Python - Tools and Skill Courses</h3>\n",
    "  <br>\n",
    "  <b>Last updated:</b> <i>10/03/2023</i>\n",
    "  <br><br>\n",
    "  <a href=\"#tabla-de-contenido\">Tabla de contenido</a> •\n",
    "  <a href=\"#referencias\">Referencias</a> •\n",
    "  <a href=\"#contribuir\">Contribuir</a>\n",
    "  <br><br>\n",
    "</p>\n",
    "<table align=\"left\">\n",
    "  <td>\n",
    "    <a href=\"https://img.shields.io/badge/version-0.1.0-blue.svg?cacheSeconds=2592000\">\n",
    "      <img src=\"https://img.shields.io/badge/version-0.1.0-blue.svg?cacheSeconds=2592000\" alt=\"Version\" height=\"18\">\n",
    "    </a>\n",
    "  </td>\n",
    "  <td>\n",
    "    <a href=\"https://colab.research.google.com/github/joefavergel/pbs-enae-python-beginners-course/blob/main/1-python-introduction.ipynb\" target=\"_parent\"><img src=\"https://colab.research.google.com/assets/colab-badge.svg\" alt=\"Open In Colab\"/>\n",
    "    </a>\n",
    "  </td>\n",
    "  <td>\n",
    "    <a href=\"https://github.com/joefavergel/pbs-enae-python-beginners-course\" target=\"_parent\"><img src=\"https://img.shields.io/github/forks/joefavergel/pbs-enae-python-beginners-course?style=social\" alt=\"Fork\"/>\n",
    "    </a>\n",
    "  </td>\n",
    "</table>\n",
    "<br>\n",
    "<br>\n",
    "\n",
    "---\n",
    "\n",
    "Bienvenid@ al curso interactivo de introducción a Python. Ya sea que sea un programador experimentado o no, este sitio curso está destinado a todos los que deseen aprender el lenguaje de programación Python y enfocar su desarrollo en la ciencia de datos."
   ]
  },
  {
   "attachments": {},
   "cell_type": "markdown",
   "id": "35bc2126",
   "metadata": {},
   "source": [
    "<a id='tabla-de-contenido'></a>\n",
    "## Tabla de contenido\n",
    "    \n",
    "<ol>\n",
    "    <li><a href=\"#1-preludio\"><b>Preludio</b></a></li>\n",
    "    <ol type=\"i\">\n",
    "        <li><a href=\"#i-programando-colab\">Programando en Google Colab</a></li>\n",
    "        <li><a href=\"#ii-instalacion-local\">Instalación en un ambiente local</a></li>\n",
    "        <li><a href=\"#iii-metodologia\">Metodología</a></li>        \n",
    "    </ol>\n",
    "    <li><a href=\"#2-introduccion-a-python\"><b>Introducción a Python</b></a></li>\n",
    "    <ol type=\"i\">\n",
    "        <li><a href=\"#i-caracteristicas-generales\">Características generales</a></li>\n",
    "        <li><a href=\"#ii-sintaxis\">Sintaxis</a></li>\n",
    "        <li><a href=\"#iii-estructuras-datos\">Estructuras de datos</a></li>\n",
    "        <li><a href=\"#iv-principales-herramientas\">Principales herramientas</a></li>\n",
    "    </ol>\n",
    "</ol>"
   ]
  },
  {
   "attachments": {},
   "cell_type": "markdown",
   "id": "e5057a3d",
   "metadata": {},
   "source": [
    "<a id=\"1-preludio\"></a>\n",
    "## 1. Preludio"
   ]
  },
  {
   "attachments": {},
   "cell_type": "markdown",
   "id": "070d695e",
   "metadata": {},
   "source": [
    "<a id=\"i-programando-colab\"></a>\n",
    "### i. Programando en Google Colab\n",
    "\n",
    "<b>¿Qué es Colaboratory?</b>\n",
    "\n",
    "<p><i>\"<a href=\"https://research.google.com/colaboratory/intl/es/faq.html#:~:text=Colaboratory%2C%20o%20%22Colab%22%20para,an%C3%A1lisis%20de%20datos%20y%20educaci%C3%B3n.\">Colaboratory, o \"Colab\"</a> para abreviar, es un producto de Google Research. Permite a cualquier usuario escribir y ejecutar código arbitrario de Python en el navegador. Es especialmente adecuado para tareas de aprendizaje automático, análisis de datos y educación. Desde un punto de vista más técnico, Colab es un servicio de cuaderno alojado de Jupyter que no requiere configuración y que ofrece acceso sin coste adicional a recursos informáticos, como GPUs.\"</i></p>\n",
    "\n",
    "<ol>\n",
    "    <li>Clickee en el botón <a href=\"https://colab.research.google.com/github/joefavergel/pbs-enae-python-beginners-course/blob/main/1-python-introduction.ipynb\" target=\"_parent\"><img src=\"https://colab.research.google.com/assets/colab-badge.svg\" alt=\"Open In Colab\"/></a>.\n",
    "    </li>\n",
    "    <li>A medida que avanza en el cuaderno, puede ejecutar cada celda con la combinación de teclas <code>shift + enter</code>.</li>\n",
    "    <li>Enseguida, verá la salida del código ejecutado.</li>\n",
    "</ol>"
   ]
  },
  {
   "cell_type": "code",
   "execution_count": 2,
   "id": "a9d7d5b3",
   "metadata": {},
   "outputs": [
    {
     "name": "stdout",
     "output_type": "stream",
     "text": [
      "[INFO] Este proyecto requiere python 3.9 o superior.\n",
      "[INFO] Versiones verificadas exitosamente!\n"
     ]
    },
    {
     "data": {
      "text/html": [
       "<style lang=\"css\" scoped>\n",
       "  .remark {    \n",
       "    background-color: #caeafc;\n",
       "    border-color: #99b4bd;\n",
       "    border-left: 5px solid #99b4bd;\n",
       "    padding: 0.5em;\n",
       "  }\n",
       "  .tip {    \n",
       "    background-color: #DDFFDD;\n",
       "    border-color: #99bd99;\n",
       "    border-left: 5px solid #99bd99;\n",
       "    padding: 0.5em;\n",
       "  }\n",
       "  .warn {\n",
       "    background-color: #fff3cd;\n",
       "    border-color: #cfbf8c;\n",
       "    border-left: 5px solid #cfbf8c;\n",
       "    padding: 0.5em;\n",
       "  }\n",
       "  .error {\n",
       "    background-color: #fcf2f2;\n",
       "    border-color: #dFb5b4;\n",
       "    border-left: 5px solid #dfb5b4;\n",
       "    padding: 0.5em;\n",
       "  }\n",
       "</style>"
      ],
      "text/plain": [
       "<IPython.core.display.HTML object>"
      ]
     },
     "execution_count": 2,
     "metadata": {},
     "output_type": "execute_result"
    }
   ],
   "source": [
    "import sys\n",
    "from IPython.core.display import HTML\n",
    "\n",
    "from pathlib import Path\n",
    "from packaging import version\n",
    "import sklearn\n",
    "import urllib.request\n",
    "\n",
    "\n",
    "print(\"[INFO] Este proyecto requiere python 3.9 o superior.\")\n",
    "assert sys.version_info >= (3, 9)\n",
    "print(\"[INFO] Versiones verificadas exitosamente!\")\n",
    "\n",
    "\n",
    "def css_styling():\n",
    "    styles_path = Path(f\"./styles/custom.css\")\n",
    "    if not styles_path.is_file():\n",
    "        Path(\"styles\").mkdir(parents=True, exist_ok=True)\n",
    "        url = f\"https://github.com/joefavergel/pbs-enae-python-beginners-course/blob/main/styles/custom.css?raw=true\"\n",
    "        urllib.request.urlretrieve(url, styles_path)\n",
    "\n",
    "    styles = open(\"./styles/custom.css\", \"r\").read()\n",
    "    return HTML(styles)\n",
    "\n",
    "\n",
    "css_styling()"
   ]
  },
  {
   "attachments": {},
   "cell_type": "markdown",
   "id": "f736dd8d",
   "metadata": {},
   "source": [
    "<a id=\"ii-instalacion-local\"></a>\n",
    "### ii. Instalación en un ambiente local\n",
    "\n",
    "Una de las mejores maneras y de las más populares de instalar <code>Python</code> es a través de <a href=\"https://www.anaconda.com/products/distribution\">Anaconda</a>.\n",
    "\n",
    "<b>¿Qué es Anaconda?</b>\n",
    "\n",
    "<p><i>\"Anaconda es una distribución libre y abierta​ de los lenguajes <code>Python</code> y <code>R</code>, utilizada en ciencia de datos, y aprendizaje automático (</i>machine learning</i>). Esto incluye procesamiento de grandes volúmenes de información, análisis predictivo y cómputos científicos. Está orientado a simplificar el despliegue y administración de los paquetes de software.\n",
    "\n",
    "Las diferentes versiones de los paquetes se administran mediante el sistema de gestión de paquetes conda, el cual lo hace bastante sencillo de instalar, correr, y actualizar software de ciencia de datos y aprendizaje automático como puede ser <code>scikit-learn</code>, <code>TensorFlow</code> y <code>SciPy</code>.\n",
    "\n",
    "La distribución de Anaconda viene con más de 250 paquetes instalados automáticamente, y se pueden instalar más de 7500 paquetes de código abierto adicionales desde PyPI, así como el paquete conda y el administrador de entorno virtual, todos válidos para Windows, Linux y MacOS.\"¹</i></p>\n",
    "\n",
    "<ul>\n",
    "    <li>Para instalar <a href=\"https://mappinggis.com/2022/10/como-instalar-anaconda-y-jupyter-notebook-para-ciencia-de-datos-y-gis/\">Anaconda en Windows</a>.\n",
    "    </li>\n",
    "    <li>Para instalar <a href=\"https://www.aprendemachinelearning.com/instalar-ambiente-de-desarrollo-python-anaconda-para-aprendizaje-automatico/\">Anaconda en macOS</a>.\n",
    "</ul>\n",
    "\n",
    "---\n",
    "¹ <a href=\"https://es.wikipedia.org/wiki/Anaconda_(distribuci%C3%B3n_de_Python)\">Anaconda (distribución de Python)</a>\n"
   ]
  },
  {
   "attachments": {},
   "cell_type": "markdown",
   "id": "332843bb",
   "metadata": {},
   "source": [
    "<a id=\"iii-metodologia\"></a>\n",
    "### ii. Metodología\n",
    "\n",
    "Las mejores maneras y de las más populares de instalar <code>Python</code> es a través de\n",
    "\n",
    "<p align=\"center\">\n",
    "  <a target=\"_blank\">\n",
    "    <img width=\"400px\" src=\"https://i.imgur.com/1XcLQoE.jpg\" alt=\"best-way-to-learn-coding\">\n",
    "  </a>\n",
    "</p><br>\n",
    "\n",
    "A medida que se aborden, los temas en clase, se presentarán ejercicios para resolver directamente en la clase en un tiempo en especifico. Por cada ejercicio se entregarán puntos de participación, que definirán las calificaciones de la rúbrica \"Actitud/Participación\", correspondiente al 40 % de la nota final. **¡No deje de participar!**\n",
    "\n",
    "\n",
    "<p align=\"center\">\n",
    "  <a target=\"_blank\">\n",
    "    <img width=\"400px\" src=\"https://media4.giphy.com/media/v1.Y2lkPTc5MGI3NjExNmFiZjMyNmI5ODBlM2UyMmU5YjZjNmY2OTgzMDBmZGEzZTUyNDA4MyZjdD1n/HscDLzkO8EOTmgkhQP/giphy.gif\" alt=\"lets-code\">\n",
    "  </a>\n",
    "</p><br>"
   ]
  },
  {
   "attachments": {},
   "cell_type": "markdown",
   "id": "f0ac5d6b",
   "metadata": {},
   "source": [
    "<a id=\"2-introduccion-a-python\"></a>\n",
    "## 2. Introducción al lenguaje de programación Python\"\n",
    "\n",
    "> En general, un ***lenguaje compilado*** está optimizado para el momento de la ejecución, aunque esto signifique una ***carga adicional para el programador***. Algunos ejemplos de ***lenguajes compilados*** son `C`, `C++`, `Rust`, `Fortran`, entre muchos otros más y tienden a ser los que ***menos recursos computacionales consumen y los más rápidos***.\n",
    "\n",
    "> Por otro lado, un ***lenguaje interpretado*** está optimizado para ***hacerle la vida más fácil al programador***, aunque eso signifique una carga adicional para la máquina. Algunos ***lenguajes interpretados*** son `Python`, `JavaScript`, `PHP`, `Ruby`, entre otros, y aunque tienden a ser más ***lentos y con limitaciones de rendimiento***, son los ***más adecuados para aprenderlos como primer lenguaje de programación***."
   ]
  },
  {
   "attachments": {},
   "cell_type": "markdown",
   "id": "d47cc455",
   "metadata": {},
   "source": [
    "<a id=\"i-caracteristicas-generales\"></a>\n",
    "### i. Características generales\n",
    "\n",
    "> `Python` es un ***lenguaje de programación interpretado*** cuya filosofía hace hincapié en la ***legibilidad de su código***.​ Se trata de un lenguaje de programación ***multiparadigma***, ya que soporta ***orientación a objetos***, programación ***imperativa*** y, en menor medida, ***programación funcional***.²\n",
    "\n",
    "Cuando <code>Python</code> se instala en su máquina, como mínimo, tiene: a) un interprete y b) bibliotecas de apoyo.\n",
    "\n",
    "\n",
    "<p align=\"center\">\n",
    "  <a target=\"_blank\">\n",
    "    <img width=\"500px\" src=\"https://i.imgur.com/eHLNyRz.png\" alt=\"python-interpreter\">\n",
    "  </a><br>\n",
    "  <b>Figura 1:</b> Diagrama esquematico del funcionamiento interno de <code>Python</code>.\n",
    "</p><br>\n",
    "\n",
    "El intérprete se compone de dos partes: a) compilador y b) máquina virtual de <code>Python</code> (PVM: <i>Python Virtual Machine</i>).\n",
    "\n",
    "<b>El Compilador</b>\n",
    "\n",
    "El compilador compila su código fuente (las declaraciones en su archivo) en un formato conocido como <code>Bytecode</code>. La compilación es simplemente un paso de traducción y entre distintos lenguajes en ocasiones se conoce como traspilacion.\n",
    "\n",
    "La traspilacion a <code>Bytecode</code> es fuertemente usado por otrso lenguajes muy populares como lo son <code>Javascript</code>, <code>Java</code>, <code>Lua</code>, entre otros. el codigo en <code>Bytecode</code> se caracteriza por ser:\n",
    "- De bajo nivel\n",
    "- Independiente de la plataforma\n",
    "- Eficiente\n",
    "- Portable\n",
    "- Una representación intermedia del código fuente\n",
    "\n",
    "Aproximadamente, cada una de sus declaraciones fuente se traduce en un grupo de instrucciones de código de bytes.\n",
    "\n",
    "<b>La máquina virtual</b>\n",
    "\n",
    "La PVM es solo un gran bucle que itera a través de las instrucciones del <code>Bytecode</code> generado por el compilador y las ejecuta una por una para llevar a cabo sus operaciones. La PVM es el motor de tiempo de ejecución (<i>runtime engine</i>) de <code>Python</code>; siempre está presente como parte del sistema de <code>Python</code> y es el componente que realmente ejecuta sus <i>scripts</i>.\n",
    "\n",
    "---\n",
    "² <a href=\"https://es.wikipedia.org/wiki/Python\">Python</a>"
   ]
  },
  {
   "attachments": {},
   "cell_type": "markdown",
   "id": "40b550e8",
   "metadata": {},
   "source": [
    "<a id=\"ii-sintaxis\"></a>\n",
    "### ii. Sintaxis"
   ]
  },
  {
   "attachments": {},
   "cell_type": "markdown",
   "id": "473ae0cc",
   "metadata": {},
   "source": [
    "<a id=\"iii-estructuras-datos\"></a>\n",
    "### iii. Estructuras de datos"
   ]
  },
  {
   "attachments": {},
   "cell_type": "markdown",
   "id": "0b75e83c",
   "metadata": {},
   "source": [
    "<a href=\"iv-principales-herramientas\"></a>\n",
    "### iv. Principales herramientas"
   ]
  }
 ],
 "metadata": {
  "kernelspec": {
   "display_name": "pbs",
   "language": "python",
   "name": "python3"
  },
  "language_info": {
   "codemirror_mode": {
    "name": "ipython",
    "version": 3
   },
   "file_extension": ".py",
   "mimetype": "text/x-python",
   "name": "python",
   "nbconvert_exporter": "python",
   "pygments_lexer": "ipython3",
   "version": "3.9.13"
  }
 },
 "nbformat": 4,
 "nbformat_minor": 5
}
