{
 "cells": [
  {
   "cell_type": "markdown",
   "id": "59f1c3ee",
   "metadata": {},
   "source": [
    "<img heigth=\"8\" src=\"https://i.imgur.com/BhG5KQ3.png\" alt=\"pbs-enae\">\n",
    "\n",
    "<h1 align=\"left\">Introducción a Python</h1>\n",
    "\n",
    "<h2 align=\"left\"><i>Preludio e Introducción al Lenguaje</i></h2>\n",
    "\n",
    "<p align=\"left\">\n",
    "  <h3>Joseph F. Vergel-Becerra | Introducción a Python - Tools and Skill Courses</h3>\n",
    "  <br>\n",
    "  <b>Last updated:</b> <i>10/03/2023</i>\n",
    "  <br><br>\n",
    "  <a href=\"#tabla-de-contenido\">Tabla de contenido</a> •\n",
    "  <a href=\"#referencias\">Referencias</a> •\n",
    "  <a href=\"#contribuir\">Contribuir</a>\n",
    "  <br><br>\n",
    "</p>\n",
    "<table align=\"left\">\n",
    "  <td>\n",
    "    <a href=\"https://img.shields.io/badge/version-0.1.0-blue.svg?cacheSeconds=2592000\">\n",
    "      <img src=\"https://img.shields.io/badge/version-0.1.0-blue.svg?cacheSeconds=2592000\" alt=\"Version\" height=\"18\">\n",
    "    </a>\n",
    "  </td>\n",
    "  <td>\n",
    "    <a href=\"https://colab.research.google.com/github/joefavergel/pbs-enae-python-beginners-course/blob/main/1-python-introduction.ipynb\" target=\"_parent\"><img src=\"https://colab.research.google.com/assets/colab-badge.svg\" alt=\"Open In Colab\"/>\n",
    "    </a>\n",
    "  </td>\n",
    "  <td>\n",
    "    <a href=\"https://github.com/joefavergel/pbs-enae-python-beginners-course\" target=\"_parent\"><img src=\"https://img.shields.io/github/forks/joefavergel/pbs-enae-python-beginners-course?style=social\" alt=\"Fork\"/>\n",
    "    </a>\n",
    "  </td>\n",
    "</table>\n",
    "<br>\n",
    "<br>\n",
    "\n",
    "---\n",
    "\n",
    "Bienvenid@ al curso interactivo de introducción a Python. Ya sea que sea un programador experimentado o no, este sitio curso está destinado a todos los que deseen aprender el lenguaje de programación Python y enfocar su desarrollo en la ciencia de datos."
   ]
  },
  {
   "attachments": {},
   "cell_type": "markdown",
   "id": "35bc2126",
   "metadata": {},
   "source": [
    "<a id='tabla-de-contenido'></a>\n",
    "## Tabla de contenido\n",
    "    \n",
    "<ol>\n",
    "    <li><a href=\"#1-preludio\"><b>Preludio</b></a></li>\n",
    "    <ol type=\"i\">\n",
    "        <li><a href=\"#i-programando-colab\">Programando en Google Colab</a></li>\n",
    "        <li><a href=\"#ii-instalacion-local\">Instalación en un ambiente local</a></li>\n",
    "        <li><a href=\"#iii-metodologia\">Metodología</a></li>        \n",
    "    </ol>\n",
    "    <li><a href=\"#2-introduccion-a-python\"><b>Introducción al lenguaje de programación </code>Python</code></b></a></li>\n",
    "    <ol type=\"i\">\n",
    "        <li><a href=\"#i-caracteristicas-generales\">Características generales</a></li>\n",
    "        <li><a href=\"#ii-sintaxis\">Sintaxis</a></li>\n",
    "    </ol>\n",
    "    <li><a href=\"#3-conceptos-comunes\"><b>Conceptos comunes de programación</b></a></li>\n",
    "    <ol type=\"i\">\n",
    "        <li><a href=\"#i-estructuras\">Estructuras de datos</a></li>\n",
    "        <li><a href=\"#ii-operadores\">Operadores</a></li>\n",
    "        <li><a href=\"#iii-control-flujo\">Control del flujo</a></li>\n",
    "        <li><a href=\"#iv-funciones\">Funciones</a></li>\n",
    "    </ol>\n",
    "    <li><a href=\"#4-herramientas\"><b>Principales herramientas</b></a></li>\n",
    "    <ol type=\"i\">\n",
    "        <li><a href=\"#i-modulos-paquetes\">Modulos y paquetes</a></li>\n",
    "        <li><a href=\"#ii-bibliotecas\">Bibliotecas</a></li>\n",
    "    </ol>\n",
    "</ol>"
   ]
  },
  {
   "cell_type": "markdown",
   "id": "e5057a3d",
   "metadata": {},
   "source": [
    "<a id=\"1-preludio\"></a>\n",
    "## 1. Preludio"
   ]
  },
  {
   "cell_type": "markdown",
   "id": "070d695e",
   "metadata": {},
   "source": [
    "<a id=\"i-programando-colab\"></a>\n",
    "### i. Programando en Google Colab\n",
    "\n",
    "<b>¿Qué es Colaboratory?</b>\n",
    "\n",
    "<p><i>\"<a href=\"https://research.google.com/colaboratory/intl/es/faq.html#:~:text=Colaboratory%2C%20o%20%22Colab%22%20para,an%C3%A1lisis%20de%20datos%20y%20educaci%C3%B3n.\">Colaboratory, o \"Colab\"</a> para abreviar, es un producto de Google Research. Permite a cualquier usuario escribir y ejecutar código arbitrario de Python en el navegador. Es especialmente adecuado para tareas de aprendizaje automático, análisis de datos y educación. Desde un punto de vista más técnico, Colab es un servicio de cuaderno alojado de Jupyter que no requiere configuración y que ofrece acceso sin coste adicional a recursos informáticos, como GPUs.\"</i></p>\n",
    "\n",
    "<ol>\n",
    "    <li>Clickee en el botón <a href=\"https://colab.research.google.com/github/joefavergel/pbs-enae-python-beginners-course/blob/main/1-python-introduction.ipynb\" target=\"_parent\"><img src=\"https://colab.research.google.com/assets/colab-badge.svg\" alt=\"Open In Colab\"/></a>.\n",
    "    </li>\n",
    "    <li>A medida que avanza en el cuaderno, puede ejecutar cada celda con la combinación de teclas <code>shift + enter</code>.</li>\n",
    "    <li>Enseguida, verá la salida del código ejecutado.</li>\n",
    "</ol>"
   ]
  },
  {
   "cell_type": "code",
   "execution_count": 37,
   "id": "a9d7d5b3",
   "metadata": {},
   "outputs": [
    {
     "name": "stdout",
     "output_type": "stream",
     "text": [
      "[INFO] Este proyecto requiere python 3.9 o superior.\n",
      "[INFO] Versiones verificadas exitosamente!\n"
     ]
    },
    {
     "data": {
      "text/html": [
       "<style lang=\"css\" scoped>\n",
       "  .remark {    \n",
       "    background-color: #caeafc;\n",
       "    border-color: #99b4bd;\n",
       "    border-left: 5px solid #99b4bd;\n",
       "    padding: 0.5em;\n",
       "  }\n",
       "  .tip {    \n",
       "    background-color: #DDFFDD;\n",
       "    border-color: #99bd99;\n",
       "    border-left: 5px solid #99bd99;\n",
       "    padding: 0.5em;\n",
       "  }\n",
       "  .warn {\n",
       "    background-color: #fff3cd;\n",
       "    border-color: #cfbf8c;\n",
       "    border-left: 5px solid #cfbf8c;\n",
       "    padding: 0.5em;\n",
       "  }\n",
       "  .error {\n",
       "    background-color: #fcf2f2;\n",
       "    border-color: #dFb5b4;\n",
       "    border-left: 5px solid #dfb5b4;\n",
       "    padding: 0.5em;\n",
       "  }\n",
       "</style>"
      ],
      "text/plain": [
       "<IPython.core.display.HTML object>"
      ]
     },
     "execution_count": 37,
     "metadata": {},
     "output_type": "execute_result"
    }
   ],
   "source": [
    "import sys\n",
    "from IPython.core.display import HTML\n",
    "\n",
    "from pathlib import Path\n",
    "from packaging import version\n",
    "import sklearn\n",
    "import urllib.request\n",
    "\n",
    "\n",
    "print(\"[INFO] Este proyecto requiere python 3.9 o superior.\")\n",
    "assert sys.version_info >= (3, 9)\n",
    "print(\"[INFO] Versiones verificadas exitosamente!\")\n",
    "\n",
    "\n",
    "def css_styling():\n",
    "    styles_path = Path(f\"./styles/custom.css\")\n",
    "    if not styles_path.is_file():\n",
    "        Path(\"styles\").mkdir(parents=True, exist_ok=True)\n",
    "        url = f\"https://github.com/joefavergel/pbs-enae-python-beginners-course/blob/main/styles/custom.css?raw=true\"\n",
    "        urllib.request.urlretrieve(url, styles_path)\n",
    "\n",
    "    styles = open(\"./styles/custom.css\", \"r\").read()\n",
    "    return HTML(styles)\n",
    "\n",
    "\n",
    "css_styling()"
   ]
  },
  {
   "cell_type": "markdown",
   "id": "f736dd8d",
   "metadata": {},
   "source": [
    "<a id=\"ii-instalacion-local\"></a>\n",
    "### ii. Instalación en un ambiente local\n",
    "\n",
    "Una de las mejores maneras y de las más populares de instalar <code>Python</code> es a través de <a href=\"https://www.anaconda.com/products/distribution\">Anaconda</a>.\n",
    "\n",
    "<b>¿Qué es Anaconda?</b>\n",
    "\n",
    "<p><i>\"Anaconda es una distribución libre y abierta​ de los lenguajes <code>Python</code> y <code>R</code>, utilizada en ciencia de datos, y aprendizaje automático (</i>machine learning</i>). Esto incluye procesamiento de grandes volúmenes de información, análisis predictivo y cómputos científicos. Está orientado a simplificar el despliegue y administración de los paquetes de software.\n",
    "\n",
    "Las diferentes versiones de los paquetes se administran mediante el sistema de gestión de paquetes conda, el cual lo hace bastante sencillo de instalar, correr, y actualizar software de ciencia de datos y aprendizaje automático como puede ser <code>scikit-learn</code>, <code>TensorFlow</code> y <code>SciPy</code>.\n",
    "\n",
    "La distribución de Anaconda viene con más de 250 paquetes instalados automáticamente, y se pueden instalar más de 7500 paquetes de código abierto adicionales desde PyPI, así como el paquete conda y el administrador de entorno virtual, todos válidos para Windows, Linux y MacOS.\"¹</i></p>\n",
    "\n",
    "<ul>\n",
    "    <li>Para instalar <a href=\"https://mappinggis.com/2022/10/como-instalar-anaconda-y-jupyter-notebook-para-ciencia-de-datos-y-gis/\">Anaconda en Windows</a>.\n",
    "    </li>\n",
    "    <li>Para instalar <a href=\"https://www.aprendemachinelearning.com/instalar-ambiente-de-desarrollo-python-anaconda-para-aprendizaje-automatico/\">Anaconda en macOS</a>.\n",
    "</ul>\n",
    "\n",
    "---\n",
    "¹ <a href=\"https://es.wikipedia.org/wiki/Anaconda_(distribuci%C3%B3n_de_Python)\">Anaconda (distribución de Python)</a>\n"
   ]
  },
  {
   "cell_type": "markdown",
   "id": "332843bb",
   "metadata": {},
   "source": [
    "<a id=\"iii-metodologia\"></a>\n",
    "### ii. Metodología\n",
    "\n",
    "La mejor manera para aprender a programar:\n",
    "\n",
    "<p align=\"center\">\n",
    "  <a target=\"_blank\">\n",
    "    <img width=\"400px\" src=\"https://i.imgur.com/1XcLQoE.jpg\" alt=\"best-way-to-learn-coding\">\n",
    "  </a>\n",
    "</p><br>\n",
    "\n",
    "A medida que se aborden, los temas en clase, se presentarán ejercicios para resolver directamente en la clase en un tiempo en especifico. Por cada ejercicio se entregarán puntos de participación, que definirán las calificaciones de la rúbrica \"Actitud/Participación\", correspondiente al 40 % de la nota final. **¡No deje de participar!**\n",
    "\n",
    "\n",
    "<p align=\"center\">\n",
    "  <a target=\"_blank\">\n",
    "    <img width=\"400px\" src=\"https://media4.giphy.com/media/v1.Y2lkPTc5MGI3NjExNmFiZjMyNmI5ODBlM2UyMmU5YjZjNmY2OTgzMDBmZGEzZTUyNDA4MyZjdD1n/HscDLzkO8EOTmgkhQP/giphy.gif\" alt=\"lets-code\">\n",
    "  </a>\n",
    "</p><br>"
   ]
  },
  {
   "attachments": {},
   "cell_type": "markdown",
   "id": "f0ac5d6b",
   "metadata": {},
   "source": [
    "<a id=\"2-introduccion-a-python\"></a>\n",
    "## 2. Introducción al lenguaje de programación `Python`\n",
    "\n",
    "> En general, un ***lenguaje compilado*** está optimizado para el momento de la ejecución, aunque esto signifique una ***carga adicional para el programador***. Algunos ejemplos de ***lenguajes compilados*** son `C`, `C++`, `Rust`, `Fortran`, entre muchos otros más y tienden a ser los que ***menos recursos computacionales consumen y los más rápidos***.\n",
    "\n",
    "> Por otro lado, un ***lenguaje interpretado*** está optimizado para ***hacerle la vida más fácil al programador***, aunque eso signifique una carga adicional para la máquina. Algunos ***lenguajes interpretados*** son `Python`, `JavaScript`, `PHP`, `Ruby`, entre otros, y aunque tienden a ser más ***lentos y con limitaciones de rendimiento***, son los ***más adecuados para aprenderlos como primer lenguaje de programación***."
   ]
  },
  {
   "attachments": {},
   "cell_type": "markdown",
   "id": "d47cc455",
   "metadata": {},
   "source": [
    "<a id=\"i-caracteristicas-generales\"></a>\n",
    "### i. Características generales\n",
    "\n",
    "> `Python` es un ***lenguaje de programación interpretado*** cuya filosofía hace hincapié en la ***legibilidad de su código***.​ Se trata de un lenguaje de programación ***multiparadigma***, ya que soporta ***orientación a objetos***, programación ***imperativa*** y, en menor medida, ***programación funcional***.²\n",
    "\n",
    "Cuando <code>Python</code> se instala en su máquina, como mínimo, tiene: a) un interprete y b) bibliotecas de apoyo.\n",
    "\n",
    "<br>\n",
    "\n",
    "<p align=\"center\">\n",
    "  <a target=\"_blank\">\n",
    "    <img width=\"500px\" src=\"https://i.imgur.com/eHLNyRz.png\" alt=\"python-interpreter\">\n",
    "  </a><br>\n",
    "  <b>Figura 1:</b> Diagrama esquematico del funcionamiento interno de <code>Python</code>.\n",
    "</p><br>\n",
    "\n",
    "El intérprete se compone de dos partes: a) compilador y b) máquina virtual de <code>Python</code> (PVM: <i>Python Virtual Machine</i>).\n",
    "\n",
    "<b>El Compilador</b>\n",
    "\n",
    "El compilador compila su código fuente (las declaraciones en su archivo) en un formato conocido como <code>Bytecode</code>. La compilación es simplemente un paso de traducción y entre distintos lenguajes en ocasiones se conoce como traspilacion.\n",
    "\n",
    "La traspilacion a <code>Bytecode</code> es fuertemente usado por otrso lenguajes muy populares como lo son <code>Javascript</code>, <code>Java</code>, <code>Lua</code>, entre otros. el codigo en <code>Bytecode</code> se caracteriza por ser:\n",
    "- De bajo nivel\n",
    "- Independiente de la plataforma\n",
    "- Eficiente\n",
    "- Portable\n",
    "- Una representación intermedia del código fuente\n",
    "\n",
    "Aproximadamente, cada una de sus declaraciones fuente se traduce en un grupo de instrucciones de código de bytes.\n",
    "\n",
    "<b>La máquina virtual</b>\n",
    "\n",
    "La PVM es solo un gran bucle que itera a través de las instrucciones del <code>Bytecode</code> generado por el compilador y las ejecuta una por una para llevar a cabo sus operaciones. La PVM es el motor de tiempo de ejecución (<i>runtime engine</i>) de <code>Python</code>; siempre está presente como parte del sistema de <code>Python</code> y es el componente que realmente ejecuta sus <i>scripts</i>.\n",
    "\n",
    "---\n",
    "² <a href=\"https://es.wikipedia.org/wiki/Python\">Python</a>"
   ]
  },
  {
   "cell_type": "markdown",
   "id": "40b550e8",
   "metadata": {},
   "source": [
    "<a id=\"ii-sintaxis\"></a>\n",
    "### ii. Sintaxis\n",
    "\n",
    "La sintaxis de `Python` permite a los programadores codificar utilizando menos pasos en comparación con otros lenguajes.\n",
    "\n",
    "Veamos como ejemplo nuestro primer código y primer programa clásico en cualquier lenguaje de programación, el popular `Hello world!`:"
   ]
  },
  {
   "cell_type": "code",
   "execution_count": 2,
   "id": "5385c000",
   "metadata": {},
   "outputs": [
    {
     "name": "stdout",
     "output_type": "stream",
     "text": [
      "Hello world!\n"
     ]
    }
   ],
   "source": [
    "print(\"Hello world!\")"
   ]
  },
  {
   "attachments": {},
   "cell_type": "markdown",
   "id": "cafadf66",
   "metadata": {},
   "source": [
    "**Principios básicos de la sintaxis de `Python`**\n",
    "\n",
    "\n",
    "Usemos el siguiente ejemplo en `Python` para explicar los principios básicos de su sintaxis.\n",
    "\n",
    "- Existen palabras reservadas, e.g., `def` para ***definir*** una función o método. Las demas palabras reservadas pueden ser consultados en la Tabla 1.\n",
    "- El código se escribe y se ejecuta de arriba hacia abajo\n",
    "- Indentación obligatoria\n",
    "- Puedes usar `#` para comentar una línea o `\"\"\"COMENT\"\"\"` para comentarios multilínea\n",
    "- Cualquier colección de números por defecto o índices de los elementos, comenzará en cero.\n",
    "\n",
    "<br>\n",
    "<p align=\"center\">\n",
    "  <a target=\"_blank\">\n",
    "    <img width=\"500px\" src=\"https://i.imgur.com/CmRLui2.jpg\" alt=\"python-interpreter\">\n",
    "  </a><br>\n",
    "  <b>Tabla 1:</b> Palabras reservadas de <code>Python</code>.\n",
    "</p><br>\n",
    "\n",
    "\n",
    "Programemos una función que dado un número de filas, construirá una \"pirámide\" con asteriscos (`\"*\"`):"
   ]
  },
  {
   "cell_type": "code",
   "execution_count": 33,
   "id": "16c60b64",
   "metadata": {},
   "outputs": [
    {
     "name": "stdout",
     "output_type": "stream",
     "text": [
      "*\n",
      "**\n",
      "***\n",
      "****\n",
      "*****\n",
      "******\n",
      "*******\n",
      "********\n",
      "*********\n",
      "**********\n",
      "***********\n",
      "************\n"
     ]
    }
   ],
   "source": [
    "def create_pyramid(rows):\n",
    "    \"\"\"\n",
    "    Create a \\\"pyramide\\\"\n",
    "    \n",
    "    Parameters\n",
    "    ----------\n",
    "        - rows: Default int. Number of rows the pyramide will have.\n",
    "\n",
    "    \"\"\"\n",
    "    for row in range(rows):\n",
    "        print('*' * (row + 1))  # Collection of indices of the form [0, 1, 2, 3,..., n_rows]\n",
    "\n",
    "\n",
    "create_pyramid(12)"
   ]
  },
  {
   "attachments": {},
   "cell_type": "markdown",
   "id": "4e3ec71f",
   "metadata": {},
   "source": [
    "## Ejercicio 1\n",
    "\n",
    "Ahora modifiquemos el código para hacer que la pirámide esté centrada y simétrica, i.e., que haya una columna vertebral de asteriscos en el centro, de longitud equivalente al número de filas `n_rows` y posteriormente, el mismo número de asteriscos a cada lado de la columna vertebral. A continuación, puede ver el resultado que se quiere obtener:\n",
    "\n",
    "\n",
    "\n",
    "\n",
    "```sh\n",
    "    *\n",
    "   ***\n",
    "  *****\n",
    " *******\n",
    "*********\n",
    "    .\n",
    "    .\n",
    "    .\n",
    "```\n",
    "\n",
    "\n",
    "\n",
    "\n",
    "Para ello, debemos modificar el código para hacer que el número de asteriscos en cada fila corresponda a la sucesión de números impares³:\n",
    "\n",
    "\n",
    "$$S(n) = 2n + 1,$$\n",
    "\n",
    "\n",
    "donde $n$ corresponde al conjunto de los números naturales $\\mathbb{N}$, i.e., $[0,1,2,3,...]$.\n",
    "\n",
    "---\n",
    "³ [Parity (mathematics)](https://en.wikipedia.org/wiki/Parity_(mathematics))\n"
   ]
  },
  {
   "cell_type": "code",
   "execution_count": 36,
   "id": "f477d45c",
   "metadata": {},
   "outputs": [
    {
     "name": "stdout",
     "output_type": "stream",
     "text": [
      "            *            \n",
      "           ***           \n",
      "          *****          \n",
      "         *******         \n",
      "        *********        \n",
      "       ***********       \n",
      "      *************      \n",
      "     ***************     \n",
      "    *****************    \n",
      "   *******************   \n",
      "  *********************  \n",
      " *********************** \n"
     ]
    }
   ],
   "source": [
    "def create_pyramid(rows):\n",
    "    \"\"\"\n",
    "    Create a \\\"pyramide\\\"\n",
    "    \n",
    "    Parameters\n",
    "    ----------\n",
    "        - rows: Default int. Number of rows the pyramide will have.\n",
    "\n",
    "    \"\"\"\n",
    "    for row in range(rows):\n",
    "        spaces = rows - row\n",
    "        print((' ' * spaces) + ('*' * (2 * row + 1)) + (' ' * spaces))\n",
    "\n",
    "\n",
    "create_pyramid(12)"
   ]
  },
  {
   "attachments": {},
   "cell_type": "markdown",
   "id": "c524f99b",
   "metadata": {},
   "source": [
    "¿Y cómo sería el mismo código en otros lenguajes?\n",
    "\n",
    "\n",
    "<p align=\"center\">\n",
    " <a target=\"_blank\">\n",
    "   <img width=\"500px\" src=\"https://i.imgur.com/KmMUUT8.png\" alt=\"python-interpreter\">\n",
    " </a>\n",
    "</p><br>\n",
    "\n",
    "\n",
    "<p align=\"center\">\n",
    " <a target=\"_blank\">\n",
    "   <img width=\"500px\" src=\"https://i.imgur.com/E5yNp4u.png\" alt=\"python-interpreter\">\n",
    " </a>\n",
    "</p><br>\n",
    "\n",
    "\n",
    "¿Y la pirámide?\n",
    "\n",
    "\n",
    "<p align=\"center\">\n",
    " <a target=\"_blank\">\n",
    "   <img width=\"500px\" src=\"https://i.imgur.com/WGzVBOj.jpg\" alt=\"python-interpreter\">\n",
    " </a>\n",
    "</p><br>\n",
    "\n",
    "\n",
    "Las colecciones son tipos de estructura de datos ampliamente utilizadas en la programación:\n",
    "\n",
    "\n",
    "<p align=\"center\">\n",
    " <a target=\"_blank\">\n",
    "   <img width=\"500px\" src=\"https://i.imgur.com/jHXVkKQ.png\" alt=\"python-interpreter\">\n",
    " </a>\n",
    "</p><br>\n",
    "\n",
    "\n",
    "Otros tarea bastante común es cargar un archivo de datos:\n",
    "\n",
    "\n",
    "<p align=\"center\">\n",
    " <a target=\"_blank\">\n",
    "   <img width=\"500px\" src=\"https://i.imgur.com/HvfBc33.png\" alt=\"python-interpreter\">\n",
    " </a>\n",
    "</p><br>\n",
    "\n",
    "\n",
    "Es clara la simplicidad que ofrece `Python`. Es esa \"simplicidad\" una de las cualidades más apreciadas, que junto a poder llamar a otros lenguajes de programación como `C` y `C++`, han hecho que `Python` haya ganado tanta popularidad.\n",
    "\n",
    "\n",
    "<p align=\"center\">\n",
    " <a target=\"_blank\">\n",
    "   <img width=\"500px\" src=\"https://i.imgur.com/W3nGS1M.png\" alt=\"python-interpreter\">\n",
    " </a>\n",
    "</p><br>"
   ]
  },
  {
   "cell_type": "code",
   "execution_count": 34,
   "id": "cb17a3f8",
   "metadata": {},
   "outputs": [
    {
     "data": {
      "text/html": [
       "<p align=\"left\">\n",
       "  <iframe width=\"560\" height=\"315\" src=\"https://www.youtube.com/embed/qQXXI5QFUfw?start=304\" title=\"YouTube video player\" frameborder=\"0\" allow=\"accelerometer; autoplay; clipboard-write; encrypted-media; gyroscope; picture-in-picture; web-share\" allowfullscreen></iframe><br>\n",
       "  <b>Video 1:</b> Cronología actualizada de los lenguajes de programación más populares desde 1965 hasta 2022. Agregación de múltiples encuestas nacionales más una tasa de ocurrencia de publicaciones en todo el mundo. La popularidad se define por el porcentaje de programadores con competencia en un idioma específico o que están aprendiendo actualmente <code>Python</code>.\n",
       "</p><br>\n"
      ],
      "text/plain": [
       "<IPython.core.display.HTML object>"
      ]
     },
     "metadata": {},
     "output_type": "display_data"
    }
   ],
   "source": [
    "%%html\n",
    "<p align=\"left\">\n",
    "  <iframe width=\"560\" height=\"315\" src=\"https://www.youtube.com/embed/qQXXI5QFUfw?start=304\" title=\"YouTube video player\" frameborder=\"0\" allow=\"accelerometer; autoplay; clipboard-write; encrypted-media; gyroscope; picture-in-picture; web-share\" allowfullscreen></iframe><br>\n",
    "  <b>Video 1:</b> Cronología actualizada de los lenguajes de programación más populares desde 1965 hasta 2022. Agregación de múltiples encuestas nacionales más una tasa de ocurrencia de publicaciones en todo el mundo. La popularidad se define por el porcentaje de programadores con competencia en un idioma específico o que están aprendiendo actualmente <code>Python</code>.\n",
    "</p><br>"
   ]
  },
  {
   "attachments": {},
   "cell_type": "markdown",
   "id": "5e3828b2",
   "metadata": {},
   "source": [
    "En conclusión, entre las principales ventajas de la sintaxis de <code>Python</code> están:\n",
    "\n",
    "\n",
    "- Fácil de leer, aprender y escribir\n",
    "- Mejora tu productividad\n",
    "- Dinámicamente tipado\n",
    "- Gratis y de código abierto\n",
    "- Amplia compatibilidad con bibliotecas\n",
    "- Portabilidad"
   ]
  },
  {
   "attachments": {},
   "cell_type": "markdown",
   "id": "ae8b55a8",
   "metadata": {},
   "source": [
    "<a id=\"3-conceptos-comunes\"></a>\n",
    "## 3. Conceptos comunes de programación\n",
    "\n",
    "Esta sección cubre conceptos que aparecen en casi todos los lenguajes de programación y cómo funcionan en `Python`. Muchos lenguajes de programación tienen mucho en común en su esencia. Ninguno de los conceptos presentados en este capítulo es exclusivo de `Python`, pero los discutiremos en el contexto de `Python` y explicaremos las convenciones en torno al uso de estos conceptos.\n",
    "\n",
    "Específicamente, aprenderá sobre variables, estructuras de datos básicas, funciones, y flujo de control (operadores logicos, condicionales y bucles). Estos fundamentos estarán en todos los programas de `Python`, y aprenderlos temprano le dará una base sólida para especializarse en cualquier linea, e.g., la ciencia de datos el *big data*."
   ]
  },
  {
   "attachments": {},
   "cell_type": "markdown",
   "id": "473ae0cc",
   "metadata": {},
   "source": [
    "<a id=\"i-estructuras\"></a>\n",
    "### i. Estructuras de datos\n",
    "\n",
    "Las variables en <code>Python</code> son un espacio reservado en memoria que toma un nombre para facilitar el acceso a un valor en específico de algún tipo de dato establecido de <code>Python</code>. Cada variable en <code>Python</code> es de una determinada estructura de datos, pero es el interprete quien infiere de que tipo es la variable. Veremos dos subconjuntos de tipos de datos: escalares o simples y compuestos (Ver Figura 4).\n",
    "\n",
    "<br>\n",
    "<p align=\"center\">\n",
    "  <a target=\"_blank\">\n",
    "    <img width=\"500px\" src=\"https://i.imgur.com/CKKKtMC.png\" alt=\"python-interpreter\">\n",
    "  </a><br>\n",
    "  <b>Figura 4:</b> Estructuras de datos en <code>Python</code>. <code>*</code> El tipo de dato carácter no existe en <code>Python</code>, un carácter simple se representa como cadena de caracteres (<i>string</i>). <code>**</code> Estructuras compuestas de lenguajes como <code>C</code>, <code>C++</code> <code>Fortran</code>, <code>Rust</code>, <code>Go</code> etc. <code>Py</code>: Estructuras compuestas en <code>Python</code>.\n",
    "</p><br>\n",
    "\n",
    "Tenga en cuenta que **<code>Python</code> es un lenguaje de tipado dinámico**, i.e., la mayor parte de su verificación de tipos se realiza en tiempo de ejecución en lugar de en tiempo de compilación. En el tipado dinámica, los tipos están asociados con valores, no con variables.\n",
    "\n",
    "<br>\n",
    "\n",
    "\n",
    "<br>\n",
    "<div class=\"remark\">\n",
    "  <b>Importante:</b>  La acción de asignación se usa para darle a una variable un valor determinado. En <code>Python</code> la acción de asignación de valores a una variable quiere decir que la variable con su nombre determinado se va a asociar al valor de la derecha de la asignación:\n",
    "\n",
    "  ```python\n",
    "  # Asignación\n",
    "  a = 2\n",
    "  ```\n",
    "\n",
    "</div><br>\n",
    "\n",
    "\n",
    "**Datos simples o escalares**\n",
    "\n",
    "Los datos elementales son los datos simples, llamados también escalares por ser objetos\n",
    "indivisibles que representan un único valor. Los datos simples son de tipo: entero, real o de coma/punto flotante (*floating-point* o simplemente *float*), booleano y carácter. En Python no existe el tipo\n",
    "de dato escalar carácter.\n",
    "\n",
    "\n",
    "**Números**\n",
    "\n",
    "Para definir un número entero, utilice la siguiente sintaxis:"
   ]
  },
  {
   "cell_type": "code",
   "execution_count": 38,
   "id": "714c9d8d",
   "metadata": {},
   "outputs": [
    {
     "name": "stdout",
     "output_type": "stream",
     "text": [
      "7 <class 'int'>\n"
     ]
    }
   ],
   "source": [
    "my_int = 4\n",
    "print(my_int, type(my_int))"
   ]
  },
  {
   "attachments": {},
   "cell_type": "markdown",
   "id": "51d09a5d",
   "metadata": {},
   "source": [
    "Para definir un número de punto flotante, puede usar una de las siguientes notaciones:"
   ]
  },
  {
   "cell_type": "code",
   "execution_count": 39,
   "id": "9e043540",
   "metadata": {},
   "outputs": [
    {
     "name": "stdout",
     "output_type": "stream",
     "text": [
      "4.0\n",
      "7.0\n"
     ]
    }
   ],
   "source": [
    "my_float = 4.0\n",
    "print(my_float)\n",
    "my_float = float(5)\n",
    "print(my_float)"
   ]
  },
  {
   "attachments": {},
   "cell_type": "markdown",
   "id": "faabddbb",
   "metadata": {},
   "source": [
    "**Booleanos**\n",
    "\n",
    "Los valores booleanos se definen a través de las palabras reservadas `True` y `False`:"
   ]
  },
  {
   "cell_type": "code",
   "execution_count": 62,
   "id": "8b0055d9",
   "metadata": {},
   "outputs": [
    {
     "name": "stdout",
     "output_type": "stream",
     "text": [
      "True\n",
      "\n",
      " True\n",
      "\n",
      " False\n",
      "\n",
      " False\n",
      "\n",
      " True\n",
      "\n",
      " False\n"
     ]
    }
   ],
   "source": [
    "is_number = True\n",
    "print(is_number)\n",
    "\n",
    "is_number = bool(1)\n",
    "print(\"\\n\", is_number)\n",
    "\n",
    "is_number = False\n",
    "print(\"\\n\", is_number)\n",
    "\n",
    "is_number = bool(0)\n",
    "print(\"\\n\", is_number)\n",
    "\n",
    "a = \"4\"\n",
    "is_number = a.isnumeric()\n",
    "print(\"\\n\", is_number)\n",
    "\n",
    "a = \"a\"\n",
    "is_number = a.isnumeric()\n",
    "print(\"\\n\", is_number)"
   ]
  },
  {
   "attachments": {},
   "cell_type": "markdown",
   "id": "317bd41b",
   "metadata": {},
   "source": [
    "**Datos compuestos**\n",
    "\n",
    "Los tipos compuestos pueden agrupar varios valores en un solo tipo. \n",
    "\n",
    "***Strings***\n",
    "\n",
    "Las cadenas de caracteres o *strings* se definen con comillas simples o comillas dobles.:"
   ]
  },
  {
   "cell_type": "code",
   "execution_count": 46,
   "id": "74c61efa",
   "metadata": {},
   "outputs": [
    {
     "name": "stdout",
     "output_type": "stream",
     "text": [
      "Hello World!\n",
      "\n",
      " Hello\n",
      "\n",
      " HELLO\n",
      "\n",
      " hello\n",
      "\n",
      " Hello\n",
      "\n",
      " Hello World!\n",
      "\n",
      " helloworld\n"
     ]
    }
   ],
   "source": [
    "my_string = 'Hello World!'\n",
    "print(my_string)\n",
    "\n",
    "my_string = \"Hello\"\n",
    "print(\"\\n\", my_string)\n",
    "\n",
    "my_string = my_string.upper()\n",
    "print(\"\\n\", my_string)\n",
    "\n",
    "my_string = my_string.lower()\n",
    "print(\"\\n\", my_string)\n",
    "\n",
    "my_string = my_string.title()\n",
    "print(\"\\n\", my_string)\n",
    "\n",
    "my_string = my_string + \" World!\"\n",
    "print(\"\\n\", my_string)\n",
    "\n",
    "hello = \"hello\"\n",
    "world = \"world\"\n",
    "print(\"\\n\", hello + world)\n"
   ]
  },
  {
   "attachments": {},
   "cell_type": "markdown",
   "id": "9b62fe57",
   "metadata": {},
   "source": [
    "**Tuplas**\n",
    "\n",
    "Los tuplas son estructuras de datos de tipo `collection`, que pueden contener varios valores de diferentes tipos simples. Una de las principales características de las tuplas es que estas son **inmutables**, i.e., no se pueden modificar los valores de sus elementos. Una tupla se definen a través del operador `()`, separando por comas cada elemento:"
   ]
  },
  {
   "cell_type": "code",
   "execution_count": 67,
   "id": "91457519",
   "metadata": {},
   "outputs": [
    {
     "name": "stdout",
     "output_type": "stream",
     "text": [
      "('a', 1)\n",
      "\n",
      " ('b', 2)\n",
      "\n",
      " First element of \"my_tuple\": b\n",
      "\n",
      " Second element of \"my_tuple\": 2\n"
     ]
    }
   ],
   "source": [
    "my_tuple = (\"a\", 1)\n",
    "print(my_tuple)\n",
    "\n",
    "my_tuple = tuple([\"b\", 2])\n",
    "print(\"\\n\", my_tuple)\n",
    "\n",
    "print(f\"\\n First element of \\\"my_tuple\\\": {my_tuple[0]}\")\n",
    "print(f\"\\n Second element of \\\"my_tuple\\\": {my_tuple[1]}\")"
   ]
  },
  {
   "attachments": {},
   "cell_type": "markdown",
   "id": "53766559",
   "metadata": {},
   "source": [
    "Inmutabilidad de las tuplas en `Python`:"
   ]
  },
  {
   "cell_type": "code",
   "execution_count": 71,
   "id": "16d5ce0b",
   "metadata": {},
   "outputs": [],
   "source": [
    "# my_tuple[0] = \"c\""
   ]
  },
  {
   "attachments": {},
   "cell_type": "markdown",
   "id": "f800bb79",
   "metadata": {},
   "source": [
    "**Listas**\n",
    "\n",
    "Las listas tambien son estructuras de tipo `collection`, que tambien pueden contener varios valores de diferentes tipos simples. A diferencia de las **tuplas**, las listas si son **mutables**, i.e., se pueden modificar o actualizar los valores de sus elementos. Una lista se definen a través del operador `[]`, separando por comas cada elemento:"
   ]
  },
  {
   "cell_type": "code",
   "execution_count": 73,
   "id": "caf295b0",
   "metadata": {},
   "outputs": [
    {
     "name": "stdout",
     "output_type": "stream",
     "text": [
      "1\n",
      "2\n",
      "3\n",
      "\n",
      " [1, 2, 3]\n",
      "\n",
      " ['a', 1, 'b', 2]\n",
      "\n",
      " ['a', 1, 'c', 2]\n"
     ]
    }
   ],
   "source": [
    "my_list = []\n",
    "my_list.append(1)\n",
    "my_list.append(2)\n",
    "my_list.append(3)\n",
    "print(my_list[0]) # prints 1\n",
    "print(my_list[1]) # prints 2\n",
    "print(my_list[2]) # prints 3\n",
    "print(\"\\n\", my_list)\n",
    "\n",
    "my_list = [\"a\", 1, \"b\", 2]\n",
    "print(\"\\n\", my_list)\n",
    "\n",
    "my_list[2] = \"c\"\n",
    "print(\"\\n\", my_list)"
   ]
  },
  {
   "attachments": {},
   "cell_type": "markdown",
   "id": "308c6e35",
   "metadata": {},
   "source": [
    "**Diccionarios**\n",
    "\n",
    "Un diccionario es un tipo de dato que funciona con pares de clave y valor en lugar de índices numerico. Se puede acceder a cada valor almacenado en un diccionario usando una clave, que es cualquier tipo de objeto (una cadena, un número, una lista, etc.) en lugar de usar su índice para direccionarlo.\n",
    "\n",
    "Por ejemplo, una base de datos de números de teléfono podría almacenarse usando un diccionario como este:"
   ]
  },
  {
   "cell_type": "code",
   "execution_count": 76,
   "id": "aa5f2684",
   "metadata": {},
   "outputs": [
    {
     "name": "stdout",
     "output_type": "stream",
     "text": [
      "{'Juan': 987654321, 'Luisa': 987123654, 'Yesica': 987456321}\n",
      "\n",
      " {'Juan': 123456789, 'Luisa': 123789456, 'Yesica': 123654987}\n",
      "\n",
      " {'Juan': 123456789, 'Luisa': 123789456, 'Yesica': 123654987, 'Carlos': 987654321}\n",
      "\n",
      " {'Juan': 123456789, 'Yesica': 123654987, 'Carlos': 987654321}\n"
     ]
    }
   ],
   "source": [
    "phone_book = {}\n",
    "phone_book[\"Juan\"] = 987654321\n",
    "phone_book[\"Luisa\"] = 987123654\n",
    "phone_book[\"Yesica\"] = 987456321\n",
    "print(phone_book)\n",
    "\n",
    "phone_book = {\n",
    "    \"Juan\": 123456789,\n",
    "    \"Luisa\": 123789456,\n",
    "    \"Yesica\": 123654987,\n",
    "}\n",
    "print(\"\\n\", phone_book)\n",
    "\n",
    "phone_book[\"Carlos\"] = 987654321\n",
    "print(\"\\n\", phone_book)\n",
    "\n",
    "del phone_book[\"Luisa\"]\n",
    "print(\"\\n\", phone_book)"
   ]
  },
  {
   "attachments": {},
   "cell_type": "markdown",
   "id": "2a0ae8e1",
   "metadata": {},
   "source": [
    "## Ejercicio 2\n",
    "\n",
    "El objetivo de este ejercicio es crear dos variables tipo *string*, un número entero y un número de punto flotante. Una de las cadenas debe llamarse `my_string` y debe contener la palabra `\"hola\"`. El otro *string* debe llamarse `name` y puede contener el nombre que desee. El número de punto flotante debe llamarse `my_float` y debe contener el número `3.14159`."
   ]
  },
  {
   "cell_type": "code",
   "execution_count": 56,
   "id": "00b6efe8",
   "metadata": {},
   "outputs": [
    {
     "name": "stdout",
     "output_type": "stream",
     "text": [
      "String: hello joseph\n",
      "\n",
      "Float: 3.142\n"
     ]
    }
   ],
   "source": [
    "# change this code\n",
    "my_string = \"hello\"\n",
    "my_name = \"joseph\"\n",
    "my_float = 3.14159\n",
    "\n",
    "# testing code\n",
    "if my_string == \"hello\":\n",
    "    print(f\"String: %s {my_name}\" % my_string)\n",
    "if isinstance(my_float, float) and my_float == 3.14159:\n",
    "    print(f\"\\nFloat: %.3f\" % my_float)"
   ]
  },
  {
   "attachments": {},
   "cell_type": "markdown",
   "id": "84026782",
   "metadata": {},
   "source": [
    "Ahora, cree una variable entera y llámela `my_int` y asígnele el número `12`. A continuación, agregue la validación del tipo ***Y*** Verifique que efectivamente la variable `my_int` contiene el número `12`."
   ]
  },
  {
   "cell_type": "code",
   "execution_count": 61,
   "id": "2334cd4a",
   "metadata": {},
   "outputs": [
    {
     "name": "stdout",
     "output_type": "stream",
     "text": [
      "String: hello joseph\n",
      "\n",
      "Float: 3.142\n",
      "\n",
      "Integer:  12\n"
     ]
    }
   ],
   "source": [
    "# change this code\n",
    "my_string = \"hello\"\n",
    "my_name = \"joseph\"\n",
    "my_float = 3.14159\n",
    "my_int = 12\n",
    "\n",
    "# testing code\n",
    "if my_string == \"hello\":\n",
    "    print(f\"String: %s {my_name}\" % my_string)\n",
    "if isinstance(my_float, float) and my_float == 3.14159:\n",
    "    print(f\"\\nFloat: %.3f\" % my_float)\n",
    "if isinstance(my_int, int) and my_int == 12:\n",
    "    print(\"\\nInteger: \", my_int)"
   ]
  },
  {
   "attachments": {},
   "cell_type": "markdown",
   "id": "ac16acab",
   "metadata": {},
   "source": [
    "<a id=\"ii-operadores-basicos\"></a>\n",
    "### ii. Operadores Básicos\n",
    "\n",
    "**Operadores aritméticos**\n",
    "\n",
    "Al igual que en otros lenguajes de programación, en `Python` se utilizan operadores para realizar operaciones aritméticas con datos numéricos. Los operadores se representan con símbolos similares a los que se utilizan en una calculadora. En la Tabla 2 se muestran los operadores aritméticos que reconoce `Python`.\n",
    "\n",
    "<br>\n",
    "<p align=\"center\">\n",
    " <a target=\"_blank\">\n",
    "   <img width=\"500px\" src=\"https://i.imgur.com/hB6Acxs.png\" alt=\"python-interpreter\">\n",
    " </a><br>\n",
    " <b>Tabla 2:</b> Operadores aritméticos en <code>Python</code>.\n",
    "</p><br>\n",
    "\n",
    "Cuando se deben hacer operaciones combinadas (divisiones que se suman a una multiplicación, por ejemplo), se pueden usar paréntesis como en matemática para separar una operación de otra. Sin embargo, y también del mismo modo que en matemática, las operaciones tienen un Orden de Prioridad “natural” de operación. Primero se resuelven potencias y raíces. Después cocientes y productos. Y finalmente adiciones y sustracciones (Ver Figura 5).\n",
    "\n",
    "<br>\n",
    "<p align=\"center\">\n",
    " <a target=\"_blank\">\n",
    "   <img width=\"500px\" src=\"https://i.imgur.com/WEftU5h.png\" alt=\"python-interpreter\">\n",
    " </a><br>\n",
    " <b>Figura 5:</b> Jerarquía de los operadores aritméticos en <code>Python</code>.\n",
    "</p><br>"
   ]
  },
  {
   "cell_type": "code",
   "execution_count": 84,
   "id": "3e896530",
   "metadata": {},
   "outputs": [
    {
     "name": "stdout",
     "output_type": "stream",
     "text": [
      "2.5\n",
      "2.25\n"
     ]
    }
   ],
   "source": [
    "number = 1 + 2 * 3 / 4.0\n",
    "print(number)\n",
    "\n",
    "number = (1 + 2) * (3 / 4.0)\n",
    "print(number)"
   ]
  },
  {
   "attachments": {},
   "cell_type": "markdown",
   "id": "33a72aec",
   "metadata": {},
   "source": [
    "**Operadores de division**\n",
    "\n",
    "- División\n",
    "- División entera\n",
    "- Módulo o residuo de una división"
   ]
  },
  {
   "cell_type": "code",
   "execution_count": 81,
   "id": "8d97c440",
   "metadata": {},
   "outputs": [
    {
     "name": "stdout",
     "output_type": "stream",
     "text": [
      "3.6666666666666665\n",
      "3\n",
      "2\n"
     ]
    }
   ],
   "source": [
    "remainder = 11 / 3\n",
    "print(remainder)\n",
    "\n",
    "remainder = 11 // 3\n",
    "print(remainder)\n",
    "\n",
    "remainder = 11 % 3\n",
    "print(remainder)"
   ]
  },
  {
   "attachments": {},
   "cell_type": "markdown",
   "id": "0878f374",
   "metadata": {},
   "source": [
    "**Operador potencia**"
   ]
  },
  {
   "cell_type": "code",
   "execution_count": null,
   "id": "1d503f3b",
   "metadata": {},
   "outputs": [],
   "source": [
    "squared = 7 ** 2\n",
    "cubed = 2 ** 3\n",
    "print(squared)\n",
    "print(cubed)"
   ]
  },
  {
   "attachments": {},
   "cell_type": "markdown",
   "id": "be91bf81",
   "metadata": {},
   "source": [
    "**Operadores sobre** ***strings***"
   ]
  },
  {
   "cell_type": "code",
   "execution_count": 78,
   "id": "43b74505",
   "metadata": {},
   "outputs": [
    {
     "name": "stdout",
     "output_type": "stream",
     "text": [
      "hello world\n",
      "hello hello hello hello hello hello hello hello hello hello \n"
     ]
    }
   ],
   "source": [
    "hello_world = \"hello\" + \" \" + \"world\"\n",
    "print(hello_world)\n",
    "\n",
    "lots_of_hellos = \"hello \" * 10\n",
    "print(lots_of_hellos)"
   ]
  },
  {
   "attachments": {},
   "cell_type": "markdown",
   "id": "3538c728",
   "metadata": {},
   "source": [
    "**Operadores sobre listas**"
   ]
  },
  {
   "cell_type": "code",
   "execution_count": 80,
   "id": "4a6d0d10",
   "metadata": {},
   "outputs": [
    {
     "name": "stdout",
     "output_type": "stream",
     "text": [
      "[1, 3, 5, 7, 2, 4, 6, 8]\n",
      "[1, 3, 5, 7, 2, 4, 6, 8, 1, 3, 5, 7, 2, 4, 6, 8, 1, 3, 5, 7, 2, 4, 6, 8]\n"
     ]
    }
   ],
   "source": [
    "even_numbers = [2, 4, 6, 8]\n",
    "odd_numbers = [1, 3, 5, 7]\n",
    "all_numbers = odd_numbers + even_numbers\n",
    "print(all_numbers)\n",
    "\n",
    "print(all_numbers * 3)"
   ]
  },
  {
   "attachments": {},
   "cell_type": "markdown",
   "id": "588814d0",
   "metadata": {},
   "source": [
    "**Operadores aritméticos con asignaciones**\n",
    "\n",
    "<br>\n",
    "<p align=\"center\">\n",
    " <a target=\"_blank\">\n",
    "   <img width=\"500px\" src=\"https://i.imgur.com/7EY5mhW.png\" alt=\"python-interpreter\">\n",
    " </a><br>\n",
    " <b>Tabla 3:</b> Compactaciones de los operadores aritméticos y el operador de asignación en <code>Python</code>.\n",
    "</p><br>"
   ]
  },
  {
   "cell_type": "code",
   "execution_count": 95,
   "id": "8ff0e25c",
   "metadata": {},
   "outputs": [
    {
     "name": "stdout",
     "output_type": "stream",
     "text": [
      "9\n",
      "11\n"
     ]
    }
   ],
   "source": [
    "c, d = 4, 5\n",
    "print(c + d)\n",
    "c = c + 1\n",
    "d = d + 1\n",
    "print(c + d)\n"
   ]
  },
  {
   "attachments": {},
   "cell_type": "markdown",
   "id": "3f9011c6",
   "metadata": {},
   "source": [
    "Una vez definidades las variables `c` y `d`, entonces:"
   ]
  },
  {
   "cell_type": "code",
   "execution_count": 96,
   "id": "6135d76e",
   "metadata": {},
   "outputs": [
    {
     "name": "stdout",
     "output_type": "stream",
     "text": [
      "10 \n",
      "\n",
      "6.01\n"
     ]
    }
   ],
   "source": [
    "c += 1\n",
    "d -= 2\n",
    "print(c + d, \"\\n\")\n",
    "\n",
    "x = 6\n",
    "x += 0.01\n",
    "print(x)"
   ]
  },
  {
   "cell_type": "code",
   "execution_count": 97,
   "id": "4e55a2b6",
   "metadata": {},
   "outputs": [
    {
     "name": "stdout",
     "output_type": "stream",
     "text": [
      "25\n",
      "3\n",
      "9\n"
     ]
    }
   ],
   "source": [
    "y = 5\n",
    "y *= d+1\n",
    "print(y)\n",
    "\n",
    "n = 7\n",
    "n //= 2\n",
    "print(n)\n",
    "\n",
    "n **= 2\n",
    "print(n)"
   ]
  },
  {
   "attachments": {},
   "cell_type": "markdown",
   "id": "5f08d0c8",
   "metadata": {},
   "source": [
    "**Operadores lógicos**\n",
    "\n",
    "Los operadores lógicos o booleanos operan sobre tipo de datos booleanos. Estas operaciones son “y lógico” o conjunción, “o lógico” o disyunción sobre dos operandos y la “negación” que es un operador unario. En Python las palabras reservadas para estas operaciones son `and`, `or` y `not`, respectivamente. Recordamos que los valores lógicos en Python son `True` y `False` para los valores cierto (1 lógico) y falso (0 lógico), respectivamente. Los resultados de las posibles operaciones logicas se visualizan en la Tabla 4. Al mismo tiempo, los simboles de los operadores logicos pueden verse en la Tabla 5.\n",
    "\n",
    "<br>\n",
    "<p align=\"center\">\n",
    " <a target=\"_blank\">\n",
    "   <img width=\"500px\" src=\"https://i.imgur.com/B1ELI61.png\" alt=\"python-interpreter\">\n",
    " </a><br>\n",
    " <b>Tabla 4:</b> Resultados de las operaciones logicas.\n",
    "</p><br>\n",
    "\n",
    "<br>\n",
    "<p align=\"center\">\n",
    " <a target=\"_blank\">\n",
    "   <img width=\"500px\" src=\"https://i.imgur.com/JsNZClr.png\" alt=\"python-interpreter\">\n",
    " </a><br>\n",
    " <b>Tabla 5:</b> Simbolos para los operadores logicos en <code>Python</code>.\n",
    "</p><br>"
   ]
  },
  {
   "cell_type": "code",
   "execution_count": 105,
   "id": "cfc50060",
   "metadata": {},
   "outputs": [
    {
     "name": "stdout",
     "output_type": "stream",
     "text": [
      "True\n",
      "False\n",
      "False\n",
      "True\n"
     ]
    }
   ],
   "source": [
    "A = True\n",
    "B = False\n",
    "print(A or B)\n",
    "\n",
    "A = True\n",
    "B = False\n",
    "print(A and B)\n",
    "\n",
    "print(not A)\n",
    "print(A)"
   ]
  },
  {
   "attachments": {},
   "cell_type": "markdown",
   "id": "42e34606",
   "metadata": {},
   "source": [
    "**Operadores relacionales**\n",
    "\n",
    "Estos operadores son usados para comparar dos expresiones o valores y el resultado siempre es un booleano, es decir, `True` o `False`.\n",
    "\n",
    "\n",
    "<br>\n",
    "<p align=\"center\">\n",
    " <a target=\"_blank\">\n",
    "   <img width=\"500px\" src=\"https://i.imgur.com/UrSYX5D.png\" alt=\"python-interpreter\">\n",
    " </a><br>\n",
    " <b>Tabla 6:</b> Operadores relacionales en <code>Python</code>.\n",
    "</p><br>"
   ]
  },
  {
   "cell_type": "code",
   "execution_count": 107,
   "id": "e23c9a32",
   "metadata": {},
   "outputs": [
    {
     "name": "stdout",
     "output_type": "stream",
     "text": [
      "True\n",
      "\n",
      " True\n",
      "True\n",
      "\n",
      " False\n"
     ]
    }
   ],
   "source": [
    "# For numeric variables\n",
    "temp = 38\n",
    "print((temp >= 37) and (temp <= 42))\n",
    "\n",
    "# For strings\n",
    "char = 'q'\n",
    "print(\"\\n\", (char >= 'a') and (char <= 'z') or (char >= 'A') and (char <= 'Z'))\n",
    "# Equivant to\n",
    "print('a' <= char <= 'z' or 'A' <= char <= 'Z')\n",
    "\n",
    "char = '&'\n",
    "print(\"\\n\", 'a' <= char <= 'z' or 'A' <= char <= 'Z')"
   ]
  },
  {
   "attachments": {},
   "cell_type": "markdown",
   "id": "f9115898",
   "metadata": {},
   "source": [
    "**Operador ternario**\n",
    "\n",
    "Se trata de una versión abreviada de una doble asignación junto a una expresión condicional, que cabe en una sola línea. El operador ternario en `Python` tiene tres partes claramente diferenciadas:\n",
    "\n",
    "- La expresión condicional, que llamaremos `condition`.\n",
    "- La expresión de la izquierda, que llamaremos `left`, y que se evalúa si `contidion` es `True` y se ignora si es `False`.\n",
    "- La expresión de la derecha, que llamaremos `right`, y que se evalúa si `condition` es `False` y se ignora si es `True`.\n",
    "\n",
    "Y la sintaxis es la siguiente:\n",
    "\n",
    "```python\n",
    "result = left if condition else right\n",
    "```"
   ]
  },
  {
   "cell_type": "code",
   "execution_count": 109,
   "id": "ef13d100",
   "metadata": {},
   "outputs": [
    {
     "name": "stdout",
     "output_type": "stream",
     "text": [
      "1\n",
      "0\n"
     ]
    }
   ],
   "source": [
    "char = 'q'\n",
    "is_letter = 1 if 'a' <= char.lower() <= 'z' else 0\n",
    "print(is_letter)\n",
    "\n",
    "char = '&'\n",
    "is_letter = 1 if 'a' <= char.lower() <= 'z' else 0\n",
    "print(is_letter)"
   ]
  },
  {
   "attachments": {},
   "cell_type": "markdown",
   "id": "8d32c21b",
   "metadata": {},
   "source": [
    "<a id=\"iii-control-flujo\"></a>\n",
    "### iii. Control del flujo\n",
    "\n",
    "La capacidad de ejecutar algún código dependiendo de si una condición es verdadera (condicion) y ejecutar algún código repetidamente mientras una condición es verdadera (bucle condicional), son bloques de construcción básicos en la mayoría de los lenguajes de programación. Las construcciones más comunes que le permiten controlar el flujo de ejecución del código en `Python` son las expresiones `if` y los bucles.\n",
    "\n",
    "\n",
    "**Condiciones**\n",
    "\n",
    "`Python` usa lógica booleana para evaluar las condiciones. Los valores booleanos `True` y `False` se devuelven cuando se compara o evalúa una expresión. Por ejemplo:"
   ]
  },
  {
   "cell_type": "code",
   "execution_count": 119,
   "id": "c423985f",
   "metadata": {},
   "outputs": [
    {
     "name": "stdout",
     "output_type": "stream",
     "text": [
      "True\n",
      "False\n",
      "True \n",
      "\n",
      "x equals two!\n"
     ]
    }
   ],
   "source": [
    "x = 2\n",
    "print(x == 2)\n",
    "print(x == 3)\n",
    "print(x < 3, \"\\n\")\n",
    "\n",
    "if x == 2:\n",
    "    print(\"x equals two!\")\n",
    "else:\n",
    "    print(\"x does not equal to two.\")"
   ]
  },
  {
   "cell_type": "code",
   "execution_count": 122,
   "id": "4d242f73",
   "metadata": {},
   "outputs": [
    {
     "name": "stdout",
     "output_type": "stream",
     "text": [
      "Your name is Juan, and you are also 32 years old.\n",
      "Your name is either Juan or Ricardo.\n"
     ]
    }
   ],
   "source": [
    "name = \"Juan\"\n",
    "age = 32\n",
    "if name == \"Juan\" and age == 32:\n",
    "    print(f\"Your name is {name}, and you are also {age} years old.\")\n",
    "\n",
    "if name == \"Juan\" or name == \"Ricardo\":\n",
    "    print(f\"Your name is either Juan or Ricardo.\")"
   ]
  },
  {
   "cell_type": "code",
   "execution_count": null,
   "id": "f75fb30e",
   "metadata": {},
   "outputs": [],
   "source": [
    "name = \"Carlos\"\n",
    "if name == \"Juan\" or name == \"Ricardo\":\n",
    "    print(f\"\\nYour name is either Juan or Ricardo.\")\n",
    "else:\n",
    "    print(f\"\\nI have no idea what your name is.\")"
   ]
  },
  {
   "attachments": {},
   "cell_type": "markdown",
   "id": "fd95e639",
   "metadata": {},
   "source": [
    "**El operador `in`**\n",
    "\n",
    "El operador `in` podría usarse para verificar si un objeto específico existe dentro de una coleccion, como una lista:"
   ]
  },
  {
   "cell_type": "code",
   "execution_count": 117,
   "id": "72a81ea2",
   "metadata": {},
   "outputs": [
    {
     "name": "stdout",
     "output_type": "stream",
     "text": [
      "Your name is either Juan or Ricardo.\n"
     ]
    }
   ],
   "source": [
    "name = \"Juan\"\n",
    "if name in [\"Juan\", \"Ricardo\"]:\n",
    "    print(\"Your name is either Juan or Ricardo.\")\n",
    "\n",
    "name = \"Carlos\"\n",
    "if name in [\"Juan\", \"Ricardo\"]:\n",
    "    print(\"Your name is either Juan or Ricardo.\")"
   ]
  },
  {
   "attachments": {},
   "cell_type": "markdown",
   "id": "33fb60c7",
   "metadata": {},
   "source": [
    "***El operador `is`***\n",
    "\n",
    "A diferencia del operador de doble igual `==`, el operador `is` no coincide con los valores de las variables, sino con las instancias mismas. Por ejemplo:"
   ]
  },
  {
   "cell_type": "code",
   "execution_count": 129,
   "id": "c9f50185",
   "metadata": {},
   "outputs": [
    {
     "name": "stdout",
     "output_type": "stream",
     "text": [
      "[1, 2, 3] \n",
      "\n",
      "The list does not exist or has no elements\n"
     ]
    }
   ],
   "source": [
    "x = [1,2,3]\n",
    "y = []\n",
    "\n",
    "if x and isinstance(x, list):\n",
    "    print(x, \"\\n\")\n",
    "else:\n",
    "    print(\"The list does not exist or has no elements\\n\")\n",
    "\n",
    "if y:\n",
    "    print(y)\n",
    "else:\n",
    "    print(\"The list does not exist or has no elements\")"
   ]
  },
  {
   "attachments": {},
   "cell_type": "markdown",
   "id": "050833e9",
   "metadata": {},
   "source": [
    "**Bloque `if/elif/else`**\n",
    "\n",
    "Ya vimos los bloques `if` y los bloques `if/else`. Ahora es el turno de los bloques `if/elif/else`:"
   ]
  },
  {
   "cell_type": "code",
   "execution_count": 127,
   "id": "17e01238",
   "metadata": {},
   "outputs": [
    {
     "name": "stdout",
     "output_type": "stream",
     "text": [
      "OK Carlos, you are not on the list and we will not add you either 👍\n"
     ]
    }
   ],
   "source": [
    "name = \"Carlos\"\n",
    "contact_names = [\"Juan\", \"Ricardo\"]\n",
    "is_contact = name in contact_names\n",
    "desire_add = False\n",
    "if is_contact is True:\n",
    "    print(f\"{name} you are already in the contact list!\")\n",
    "elif desire_add is True:\n",
    "    contact_names.append(name)\n",
    "    print(f\"{name}, you are already in the contact list: {contact_names}\")\n",
    "else:\n",
    "    print(f\"OK {name}, you are not on the list and we will not add you either 👍\")"
   ]
  },
  {
   "attachments": {},
   "cell_type": "markdown",
   "id": "a73f3577",
   "metadata": {},
   "source": [
    "## Ejercicio 3\n",
    "\n",
    "Proponga una variante del escenario de código de la celda anterior, pero ahora usando al menos una vez, cada uno de los operadores `not`, `is` e `in`."
   ]
  },
  {
   "cell_type": "code",
   "execution_count": 133,
   "id": "e85e4493",
   "metadata": {},
   "outputs": [
    {
     "name": "stdout",
     "output_type": "stream",
     "text": [
      "Juan you are already in the contact list!\n"
     ]
    }
   ],
   "source": [
    "name = \"Juan\"\n",
    "contact_names = [\"Juan\", \"Ricardo\"]\n",
    "is_contact = name in contact_names\n",
    "desire_add = True\n",
    "if is_contact is not True and desire_add:\n",
    "    contact_names.append(name)\n",
    "    print(f\"{name}, we just added you to the contact list: {contact_names}\")\n",
    "elif is_contact is False and desire_add is False:\n",
    "    print(f\"OK {name}, you are not on the list and we will not add you either 👍\")\n",
    "else:\n",
    "    print(f\"{name} you are already in the contact list!\")\n"
   ]
  },
  {
   "attachments": {},
   "cell_type": "markdown",
   "id": "bd02efd3",
   "metadata": {},
   "source": [
    "**Bucles**\n",
    "\n",
    "Suele ser útil ejecutar un bloque de código más de una vez. Para esta tarea, `Python` proporciona dos bucles, que se ejecutarán a través del código dentro del cuerpo del bucle hasta el final y luego comenzarán inmediatamente desde el principio. `Python` tiene dos tipos de bucles: `for` and `while`.\n",
    "\n",
    "<br>\n",
    "\n",
    "**Bucle `for` (desde – hasta, para - en)**\n",
    "\n",
    "Cuando en un programa informático se requiere hacer un conjunto de cálculos sobre una serie\n",
    "de datos, es decir, hacer un esquema de recorrido (iteración definida) o aplicar el bloque de\n",
    "instrucciones sobre un grupo de elementos (números, string, etc.) es preferible utilizar la\n",
    "sentencia `for`. En `Python` el bucle `for` se puede leer como ***\"para (`for`) cada elemento (`item`) en (`in`) la coleccion (`list`, `string`, etc.), ejecutar las instrucciones del bloque indentado\"***. Para el esquema ***\"desde – hasta\"***, tenemos que:"
   ]
  },
  {
   "cell_type": "code",
   "execution_count": 136,
   "id": "1acb9dd2",
   "metadata": {},
   "outputs": [
    {
     "name": "stdout",
     "output_type": "stream",
     "text": [
      "0\n",
      "1\n",
      "2\n",
      "3\n",
      "4\n",
      "\n",
      "\n",
      "0\n",
      "1\n",
      "2\n",
      "3\n",
      "4\n"
     ]
    }
   ],
   "source": [
    "for x in range(0, 5, 1):\n",
    "    print(x)\n",
    "\n",
    "print(\"\\n\")\n",
    "\n",
    "for x in range(5):\n",
    "    print(x)"
   ]
  },
  {
   "attachments": {},
   "cell_type": "markdown",
   "id": "b37eb45b",
   "metadata": {},
   "source": [
    "Para el esquema ***\"para – en\"***, igualmente tenemos:"
   ]
  },
  {
   "cell_type": "code",
   "execution_count": 137,
   "id": "9b97a590",
   "metadata": {},
   "outputs": [
    {
     "name": "stdout",
     "output_type": "stream",
     "text": [
      "2\n",
      "3\n",
      "5\n",
      "7\n"
     ]
    }
   ],
   "source": [
    "primes = [2, 3, 5, 7]\n",
    "for prime in primes:\n",
    "    print(prime)"
   ]
  },
  {
   "attachments": {},
   "cell_type": "markdown",
   "id": "8b62c841",
   "metadata": {},
   "source": [
    "**Bucle `while` (mientras)**\n",
    "\n",
    "La sentencia `while` es la composición algorítmica iterativa por excelencia que sirve para\n",
    "cualquier esquema iterativo. En el bucle `while`, la secuencia de instrucciones se repite siempre que la condición dada por el valor de una variable o expresión booleana sea verdadera. En `Python` el bucle `while` se puede leer como ***\"mientras (`while`) la condicion (`contidion`) se cumpla, ejecute las instrucciones del bloque indentado\"***. Para explicarlo, utilicemos uno de los recursos mas usados en la programacion, un contador:"
   ]
  },
  {
   "cell_type": "code",
   "execution_count": 139,
   "id": "efc7fc92",
   "metadata": {},
   "outputs": [
    {
     "name": "stdout",
     "output_type": "stream",
     "text": [
      "0\n",
      "1\n",
      "2\n",
      "3\n",
      "4\n"
     ]
    }
   ],
   "source": [
    "count = 0\n",
    "while count < 5:\n",
    "    print(count)\n",
    "    count += 1"
   ]
  },
  {
   "attachments": {},
   "cell_type": "markdown",
   "id": "7e199236",
   "metadata": {},
   "source": [
    "**Declaraciones `break` y `continue`**\n",
    "\n",
    "`break` se usa para salir de un ciclo `for` o `while`, mientras que `continue` se usa para omitir la iteracion en el bloque actual y volver a la instrucción `for` o `while`. Algunos ejemplos:"
   ]
  },
  {
   "cell_type": "code",
   "execution_count": 140,
   "id": "eaea3d23",
   "metadata": {},
   "outputs": [
    {
     "name": "stdout",
     "output_type": "stream",
     "text": [
      "0\n",
      "1\n",
      "2\n",
      "3\n",
      "4\n",
      "\n",
      "\n",
      "1\n",
      "3\n",
      "5\n",
      "7\n",
      "9\n"
     ]
    }
   ],
   "source": [
    "count = 0\n",
    "while True:\n",
    "    print(count)\n",
    "    count += 1\n",
    "    if count >= 5:\n",
    "        break\n",
    "\n",
    "print(\"\\n\")\n",
    "\n",
    "for x in range(10):\n",
    "    if x % 2 == 0:\n",
    "        continue\n",
    "    print(x)"
   ]
  },
  {
   "attachments": {},
   "cell_type": "markdown",
   "id": "1a1773ea",
   "metadata": {},
   "source": [
    "## Ejercicio 4\n",
    "\n",
    "Recorra e imprima todos los números pares de la lista de números en el mismo orden en que se reciben. No imprima ningún número que venga después del 237 en la secuencia."
   ]
  },
  {
   "cell_type": "code",
   "execution_count": 143,
   "id": "752bc60c",
   "metadata": {},
   "outputs": [
    {
     "name": "stdout",
     "output_type": "stream",
     "text": [
      "402\n",
      "984\n",
      "360\n",
      "408\n",
      "980\n",
      "544\n",
      "390\n",
      "984\n",
      "592\n",
      "236\n",
      "942\n",
      "386\n",
      "462\n",
      "418\n",
      "344\n",
      "236\n",
      "566\n",
      "978\n",
      "328\n",
      "162\n",
      "758\n",
      "918\n"
     ]
    }
   ],
   "source": [
    "numbers = [\n",
    "    951, 402, 984, 651, 360, 69, 408, 319, 601, 485, 980, 507, 725, 547, 544,\n",
    "    615, 83, 165, 141, 501, 263, 617, 865, 575, 219, 390, 984, 592, 236, 105, 942, 941,\n",
    "    386, 462, 47, 418, 907, 344, 236, 375, 823, 566, 597, 978, 328, 615, 953, 345,\n",
    "    399, 162, 758, 219, 918, 237, 412, 566, 826, 248, 866, 950, 626, 949, 687, 217,\n",
    "    815, 67, 104, 58, 512, 24, 892, 894, 767, 553, 81, 379, 843, 831, 445, 742, 717,\n",
    "    958, 609, 842, 451, 688, 753, 854, 685, 93, 857, 440, 380, 126, 721, 328, 753, 470,\n",
    "    743, 527\n",
    "]\n",
    "\n",
    "for number in numbers:\n",
    "    if number == 237:\n",
    "        break\n",
    "\n",
    "    if number % 2 == 0:\n",
    "        print(number)\n",
    "    else:\n",
    "        continue"
   ]
  },
  {
   "attachments": {},
   "cell_type": "markdown",
   "id": "500ece29",
   "metadata": {},
   "source": [
    "<a id=\"iv-funciones\"></a>\n",
    "### iv. Funciones\n",
    "\n",
    "Si queremos diseñar funciones debemos definirlas. En Python la definición de una función es de la forma:\n",
    "\n",
    "```python\n",
    "def function_name(parameters):\n",
    "    function_body\n",
    "```\n",
    "\n",
    "Se usa la palabra reservada (keyword) de Python def para indicar que en esta línea comienza la definición de la función, luego ponemos el nombre de la función con un identificador válido y entre paréntesis los parámetros de entrada de la función.  Los parámetros se relacionan con los valores que le son pasados como argumentos. Python requiere que la función esté definida antes de que sea usada."
   ]
  },
  {
   "cell_type": "code",
   "execution_count": 144,
   "id": "119073d7",
   "metadata": {},
   "outputs": [
    {
     "name": "stdout",
     "output_type": "stream",
     "text": [
      "Gain = 40.0 dB\n"
     ]
    }
   ],
   "source": [
    "from math import log10\n",
    "\n",
    "\n",
    "def calculate_gain_in_db(vi, vo):\n",
    "    \"\"\"\n",
    "    Compute the gain in dB: 20log(y/x)\n",
    "    \"\"\"\n",
    "    gain = vo/vi\n",
    "    db = 20*log10(gain)\n",
    "    return db\n",
    "\n",
    "\n",
    "vi, vo = 10, 1000\n",
    "gain_db = calculate_gain_in_db(vi=vi, vo=vo)\n",
    "print('Gain =', gain_db, 'dB')"
   ]
  },
  {
   "cell_type": "code",
   "execution_count": 146,
   "id": "039b2c4f",
   "metadata": {},
   "outputs": [
    {
     "name": "stdout",
     "output_type": "stream",
     "text": [
      "Gain = 40.0 dB\n"
     ]
    }
   ],
   "source": [
    "from math import log10\n",
    "\n",
    "\n",
    "def calculate_gain_in_db(vi, vo):\n",
    "    \"\"\"\n",
    "    Compute the gain in dB: 20log(y/x)\n",
    "    \"\"\"\n",
    "    return 20*log10(vo/vi)\n",
    "\n",
    "\n",
    "print('Gain =', calculate_gain_in_db(vi=10, vo=1000), 'dB')"
   ]
  },
  {
   "attachments": {},
   "cell_type": "markdown",
   "id": "5336b098",
   "metadata": {},
   "source": [
    "## Ejercicio 5\n",
    "\n",
    "Diseña una función `cartesian_coordinates(mod, ang)` que reciba el valor del módulo y de su ángulo en grados y devuelva sus coordenadas cartesianas `(x, y)` ajustados a cuatro decimales usando la función interna `round(value, digits)`."
   ]
  },
  {
   "cell_type": "code",
   "execution_count": 151,
   "id": "3eb7663b",
   "metadata": {},
   "outputs": [
    {
     "name": "stdout",
     "output_type": "stream",
     "text": [
      "0.5 0.866\n"
     ]
    }
   ],
   "source": [
    "from math import pi, sin, cos\n",
    "from typing import Tuple\n",
    "\n",
    "\n",
    "def convert_polar_to_cartesian_coordinates(mod: float, ang: float) -> Tuple[float, float]:\n",
    "    \"\"\"\n",
    "    Convert Polar Coordinates to Cartesian Coordinates \n",
    "    \"\"\"\n",
    "    x = round(mod * cos(ang), 4)\n",
    "    y = round(mod * sin(ang), 4)\n",
    "    return x, y\n",
    "\n",
    "\n",
    "x, y = convert_polar_to_cartesian_coordinates(mod=1, ang=pi/3)\n",
    "print(x, y)"
   ]
  },
  {
   "attachments": {},
   "cell_type": "markdown",
   "id": "0b75e83c",
   "metadata": {},
   "source": [
    "<a id=\"4-herramientas\"></a>\n",
    "### 4. Principales herramientas"
   ]
  },
  {
   "attachments": {},
   "cell_type": "markdown",
   "id": "9d54a195",
   "metadata": {},
   "source": [
    "<a id=\"i-modulos-paquetes\"></a>\n",
    "### i. Bibliotecas, paquetes y modulos"
   ]
  }
 ],
 "metadata": {
  "kernelspec": {
   "display_name": "Python 3 (ipykernel)",
   "language": "python",
   "name": "python3"
  },
  "language_info": {
   "codemirror_mode": {
    "name": "ipython",
    "version": 3
   },
   "file_extension": ".py",
   "mimetype": "text/x-python",
   "name": "python",
   "nbconvert_exporter": "python",
   "pygments_lexer": "ipython3",
   "version": "3.9.13"
  }
 },
 "nbformat": 4,
 "nbformat_minor": 5
}
