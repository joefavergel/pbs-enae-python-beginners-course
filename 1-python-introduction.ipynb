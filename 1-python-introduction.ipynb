{
 "cells": [
  {
   "attachments": {},
   "cell_type": "markdown",
   "id": "59f1c3ee",
   "metadata": {},
   "source": [
    "<img heigth=\"8\" src=\"https://i.imgur.com/BhG5KQ3.png\" alt=\"pbs-enae\">\n",
    "\n",
    "<h1 align=\"left\">Introducción a Python</h1>\n",
    "\n",
    "<h2 align=\"left\"><i>Preludio e Introducción al Lenguaje</i></h2>\n",
    "\n",
    "<p align=\"left\">\n",
    "  <h3><a href=\"https://joefaver.dev\">Joseph F. Vergel-Becerra</a> | Introducción a Python - Tools and Skill Courses</h3>\n",
    "  <br>\n",
    "  <b>Last updated:</b> <i>10/03/2023</i>\n",
    "  <br><br>\n",
    "  <a href=\"#tabla-de-contenido\">Tabla de contenido</a> •\n",
    "  <a href=\"#referencias\">Referencias</a> •\n",
    "  <a href=\"#contribuir\">Contribuir</a>\n",
    "  <br><br>\n",
    "</p>\n",
    "<table align=\"left\">\n",
    "  <td>\n",
    "    <a href=\"https://img.shields.io/badge/version-0.1.0-blue.svg?cacheSeconds=2592000\">\n",
    "      <img src=\"https://img.shields.io/badge/version-0.1.0-blue.svg?cacheSeconds=2592000\" alt=\"Version\" height=\"18\">\n",
    "    </a>\n",
    "  </td>\n",
    "  <td>\n",
    "    <a href=\"https://colab.research.google.com/github/joefavergel/pbs-enae-python-beginners-course/blob/main/1-python-introduction.ipynb\" target=\"_parent\"><img src=\"https://colab.research.google.com/assets/colab-badge.svg\" alt=\"Open In Colab\"/>\n",
    "    </a>\n",
    "  </td>\n",
    "  <td>\n",
    "    <a href=\"https://github.com/joefavergel/pbs-enae-python-beginners-course\" target=\"_parent\"><img src=\"https://img.shields.io/github/forks/joefavergel/pbs-enae-python-beginners-course?style=social\" alt=\"Fork\"/>\n",
    "    </a>\n",
    "  </td>\n",
    "</table>\n",
    "<br>\n",
    "<br>\n",
    "\n",
    "---\n",
    "\n",
    "Bienvenid@ al curso interactivo de introducción a `Python`. Ya sea un programador experimentado o no, este curso está destinado a todos los que deseen aprender el lenguaje de programación `Python` desde cero y enfocar su especialización en la ciencia de datos."
   ]
  },
  {
   "cell_type": "markdown",
   "id": "35bc2126",
   "metadata": {},
   "source": [
    "<a id='tabla-de-contenido'></a>\n",
    "## Tabla de contenido\n",
    "    \n",
    "<ol>\n",
    "    <li><a href=\"#1-preludio\"><b>Preludio</b></a></li>\n",
    "    <ol type=\"i\">\n",
    "        <li><a href=\"#i-programando-colab\">Programando en Google Colab</a></li>\n",
    "        <li><a href=\"#ii-instalacion-local\">Instalación en un ambiente local</a></li>\n",
    "        <li><a href=\"#iii-metodologia\">Metodología</a></li>        \n",
    "    </ol>\n",
    "    <li><a href=\"#2-introduccion-a-python\"><b>Introducción al lenguaje de programación </code>Python</code></b></a></li>\n",
    "    <ol type=\"i\">\n",
    "        <li><a href=\"#i-caracteristicas-generales\">Características generales</a></li>\n",
    "        <li><a href=\"#ii-sintaxis\">Sintaxis</a></li>\n",
    "    </ol>\n",
    "    <li><a href=\"#3-conceptos-comunes\"><b>Conceptos comunes de programación</b></a></li>\n",
    "    <ol type=\"i\">\n",
    "        <li><a href=\"#i-estructuras\">Estructuras de datos</a></li>\n",
    "        <li><a href=\"#ii-operadores\">Operadores</a></li>\n",
    "        <li><a href=\"#iii-control-flujo\">Control del flujo</a></li>\n",
    "        <li><a href=\"#iv-funciones\">Funciones</a></li>\n",
    "    </ol>\n",
    "    <li><a href=\"#4-herramientas\"><b>Principales herramientas</b></a></li>\n",
    "    <ol type=\"i\">\n",
    "        <li><a href=\"#i-modulos-paquetes\">Bibliotecas, paquetes y módulos</a></li>\n",
    "    </ol>\n",
    "    <li><a href=\"#ejercicios\"><b>Ejercicios caso practico: \"Introducción a Python\"</b></a></li>\n",
    "</ol>"
   ]
  },
  {
   "cell_type": "markdown",
   "id": "e5057a3d",
   "metadata": {},
   "source": [
    "<a id=\"1-preludio\"></a>\n",
    "## 1. Preludio"
   ]
  },
  {
   "cell_type": "markdown",
   "id": "070d695e",
   "metadata": {},
   "source": [
    "<a id=\"i-programando-colab\"></a>\n",
    "### A. Programando en Google Colab\n",
    "\n",
    "<b>¿Qué es Colaboratory?</b>\n",
    "\n",
    "<p><i>\"<a href=\"https://research.google.com/colaboratory/intl/es/faq.html#:~:text=Colaboratory%2C%20o%20%22Colab%22%20para,an%C3%A1lisis%20de%20datos%20y%20educaci%C3%B3n.\">Colaboratory, o \"Colab\"</a> para abreviar, es un producto de Google Research. Permite a cualquier usuario escribir y ejecutar código arbitrario de Python en el navegador. Es especialmente adecuado para tareas de aprendizaje automático, análisis de datos y educación. Desde un punto de vista más técnico, Colab es un servicio de cuaderno alojado de Jupyter que no requiere configuración y que ofrece acceso sin coste adicional a recursos informáticos, como GPUs.\"</i></p>\n",
    "\n",
    "<ol>\n",
    "    <li>Clickee en el botón <a href=\"https://colab.research.google.com/github/joefavergel/pbs-enae-python-beginners-course/blob/main/1-python-introduction.ipynb\" target=\"_parent\"><img src=\"https://colab.research.google.com/assets/colab-badge.svg\" alt=\"Open In Colab\"/></a>\n",
    "    </li>\n",
    "    <li>A medida que avanza en el cuaderno, puede ejecutar cada celda con la combinación de teclas <code>shift + enter</code>.</li>\n",
    "    <li>Enseguida, verá la salida del código ejecutado.</li>\n",
    "</ol>"
   ]
  },
  {
   "cell_type": "code",
   "execution_count": 1,
   "id": "a9d7d5b3",
   "metadata": {},
   "outputs": [
    {
     "name": "stdout",
     "output_type": "stream",
     "text": [
      "[INFO] Este proyecto requiere python 3.9 o superior.\n",
      "[INFO] Versiones verificadas exitosamente!\n"
     ]
    },
    {
     "data": {
      "text/html": [
       "<style lang=\"css\" scoped>\n",
       "  .remark {    \n",
       "    background-color: #caeafc;\n",
       "    border-color: #99b4bd;\n",
       "    border-left: 5px solid #99b4bd;\n",
       "    padding: 0.5em;\n",
       "  }\n",
       "  .tip {    \n",
       "    background-color: #DDFFDD;\n",
       "    border-color: #99bd99;\n",
       "    border-left: 5px solid #99bd99;\n",
       "    padding: 0.5em;\n",
       "  }\n",
       "  .warn {\n",
       "    background-color: #fff3cd;\n",
       "    border-color: #cfbf8c;\n",
       "    border-left: 5px solid #cfbf8c;\n",
       "    padding: 0.5em;\n",
       "  }\n",
       "  .error {\n",
       "    background-color: #fcf2f2;\n",
       "    border-color: #dFb5b4;\n",
       "    border-left: 5px solid #dfb5b4;\n",
       "    padding: 0.5em;\n",
       "  }\n",
       "</style>"
      ],
      "text/plain": [
       "<IPython.core.display.HTML object>"
      ]
     },
     "execution_count": 1,
     "metadata": {},
     "output_type": "execute_result"
    }
   ],
   "source": [
    "import sys\n",
    "from IPython.core.display import HTML\n",
    "\n",
    "from pathlib import Path\n",
    "from packaging import version\n",
    "import sklearn\n",
    "import urllib.request\n",
    "\n",
    "\n",
    "print(\"[INFO] Este proyecto requiere python 3.9 o superior.\")\n",
    "assert sys.version_info >= (3, 9)\n",
    "print(\"[INFO] Versiones verificadas exitosamente!\")\n",
    "\n",
    "\n",
    "def css_styling():\n",
    "    styles_path = Path(f\"./styles/custom.css\")\n",
    "    if not styles_path.is_file():\n",
    "        Path(\"styles\").mkdir(parents=True, exist_ok=True)\n",
    "        url = f\"https://github.com/joefavergel/pbs-enae-python-beginners-course/blob/main/styles/custom.css?raw=true\"\n",
    "        urllib.request.urlretrieve(url, styles_path)\n",
    "\n",
    "    styles = open(\"./styles/custom.css\", \"r\").read()\n",
    "    return HTML(styles)\n",
    "\n",
    "\n",
    "css_styling()"
   ]
  },
  {
   "cell_type": "markdown",
   "id": "f736dd8d",
   "metadata": {},
   "source": [
    "<a id=\"ii-instalacion-local\"></a>\n",
    "### B. Instalación en un ambiente local\n",
    "\n",
    "Una de las mejores maneras y de las más populares de instalar <code>Python</code> es a través de <a href=\"https://www.anaconda.com/products/distribution\">Anaconda</a>.\n",
    "\n",
    "<b>¿Qué es Anaconda?</b>\n",
    "\n",
    "<p><i>\"Anaconda es una distribución libre y abierta​ de los lenguajes <code>Python</code> y <code>R</code>, utilizada en ciencia de datos, y aprendizaje automático (</i>machine learning</i>). Esto incluye procesamiento de grandes volúmenes de información, análisis predictivo y cómputos científicos. Está orientado a simplificar el despliegue y administración de los paquetes de software.\n",
    "\n",
    "Las diferentes versiones de los paquetes se administran mediante el sistema de gestión de paquetes conda, el cual lo hace bastante sencillo de instalar, correr, y actualizar software de ciencia de datos y aprendizaje automático como puede ser <code>scikit-learn</code>, <code>TensorFlow</code> y <code>SciPy</code>.\n",
    "\n",
    "La distribución de Anaconda viene con más de 250 paquetes instalados automáticamente, y se pueden instalar más de 7500 paquetes de código abierto adicionales desde PyPI, así como el paquete conda y el administrador de entorno virtual, todos válidos para Windows, Linux y MacOS.\"¹</i></p>\n",
    "\n",
    "<ul>\n",
    "    <li>Para instalar <a href=\"https://mappinggis.com/2022/10/como-instalar-anaconda-y-jupyter-notebook-para-ciencia-de-datos-y-gis/\">Anaconda en Windows</a>.\n",
    "    </li>\n",
    "    <li>Para instalar <a href=\"https://www.aprendemachinelearning.com/instalar-ambiente-de-desarrollo-python-anaconda-para-aprendizaje-automatico/\">Anaconda en macOS</a>.\n",
    "</ul>\n",
    "\n",
    "---\n",
    "¹ <a href=\"https://es.wikipedia.org/wiki/Anaconda_(distribuci%C3%B3n_de_Python)\">Anaconda (distribución de Python)</a>\n"
   ]
  },
  {
   "cell_type": "markdown",
   "id": "332843bb",
   "metadata": {},
   "source": [
    "<a id=\"iii-metodologia\"></a>\n",
    "### C. Metodología\n",
    "\n",
    "La mejor manera para aprender a programar:\n",
    "\n",
    "<p align=\"center\">\n",
    "  <a target=\"_blank\">\n",
    "    <img width=\"400px\" src=\"https://i.imgur.com/1XcLQoE.jpg\" alt=\"best-way-to-learn-coding\">\n",
    "  </a>\n",
    "</p><br>\n",
    "\n",
    "A medida que se aborden, los temas en clase, se presentarán ejercicios para resolver directamente en la clase en un tiempo en especifico. Por cada ejercicio se entregarán puntos de participación, que definirán las calificaciones de la rúbrica \"Actitud/Participación\", correspondiente al 40 % de la nota final. **¡No deje de participar!**\n",
    "\n",
    "\n",
    "<p align=\"center\">\n",
    "  <a target=\"_blank\">\n",
    "    <img width=\"400px\" src=\"https://media4.giphy.com/media/v1.Y2lkPTc5MGI3NjExNmFiZjMyNmI5ODBlM2UyMmU5YjZjNmY2OTgzMDBmZGEzZTUyNDA4MyZjdD1n/HscDLzkO8EOTmgkhQP/giphy.gif\" alt=\"lets-code\">\n",
    "  </a>\n",
    "</p><br>"
   ]
  },
  {
   "cell_type": "markdown",
   "id": "f0ac5d6b",
   "metadata": {},
   "source": [
    "<a id=\"2-introduccion-a-python\"></a>\n",
    "## 2. Introducción al lenguaje de programación `Python`\n",
    "\n",
    "> En general, un ***lenguaje compilado*** está optimizado para el momento de la ejecución, aunque esto signifique una ***carga adicional para el programador***. Algunos ejemplos de ***lenguajes compilados*** son `C`, `C++`, `Rust`, `Fortran`, entre muchos otros más y tienden a ser los que ***menos recursos computacionales consumen y los más rápidos***.\n",
    "\n",
    "> Por otro lado, un ***lenguaje interpretado*** está optimizado para ***hacerle la vida más fácil al programador***, aunque eso signifique una carga adicional para la máquina. Algunos ***lenguajes interpretados*** son `Python`, `JavaScript`, `PHP`, `Ruby`, entre otros, y aunque tienden a ser más ***lentos y con limitaciones de rendimiento***, son los ***más adecuados para aprenderlos como primer lenguaje de programación***."
   ]
  },
  {
   "cell_type": "markdown",
   "id": "d47cc455",
   "metadata": {},
   "source": [
    "<a id=\"i-caracteristicas-generales\"></a>\n",
    "### A. Características generales\n",
    "\n",
    "> `Python` es un ***lenguaje de programación interpretado*** cuya filosofía hace hincapié en la ***legibilidad de su código***.​ Se trata de un lenguaje de programación ***multiparadigma***, ya que soporta ***orientación a objetos***, programación ***imperativa*** y, en menor medida, ***programación funcional***.²\n",
    "\n",
    "Cuando <code>Python</code> se instala en su máquina, como mínimo, tiene: a) un interprete y b) bibliotecas de apoyo.\n",
    "\n",
    "<br>\n",
    "\n",
    "<p align=\"center\">\n",
    "  <a target=\"_blank\">\n",
    "    <img width=\"500px\" src=\"https://i.imgur.com/eHLNyRz.png\" alt=\"python-interpreter\">\n",
    "  </a><br>\n",
    "  <b>Figura 1:</b> Diagrama esquematico del funcionamiento interno de <code>Python</code>.\n",
    "</p><br>\n",
    "\n",
    "El intérprete se compone de dos partes: a) compilador y b) máquina virtual de <code>Python</code> (PVM: <i>Python Virtual Machine</i>).\n",
    "\n",
    "<b>El Compilador</b>\n",
    "\n",
    "El compilador compila su código fuente (las declaraciones en su archivo) en un formato conocido como <code>Bytecode</code>. La compilación es simplemente un paso de traducción y entre distintos lenguajes en ocasiones se conoce como traspilacion.\n",
    "\n",
    "La traspilacion a <code>Bytecode</code> es fuertemente usado por otrso lenguajes muy populares como lo son <code>Javascript</code>, <code>Java</code>, <code>Lua</code>, entre otros. el codigo en <code>Bytecode</code> se caracteriza por ser:\n",
    "- De bajo nivel\n",
    "- Independiente de la plataforma\n",
    "- Eficiente\n",
    "- Portable\n",
    "- Una representación intermedia del código fuente\n",
    "\n",
    "Aproximadamente, cada una de sus declaraciones fuente se traduce en un grupo de instrucciones de código de bytes.\n",
    "\n",
    "<b>La máquina virtual</b>\n",
    "\n",
    "La PVM es solo un gran bucle que itera a través de las instrucciones del <code>Bytecode</code> generado por el compilador y las ejecuta una por una para llevar a cabo sus operaciones. La PVM es el motor de tiempo de ejecución (<i>runtime engine</i>) de <code>Python</code>; siempre está presente como parte del sistema de <code>Python</code> y es el componente que realmente ejecuta sus <i>scripts</i>.\n",
    "\n",
    "---\n",
    "² <a href=\"https://es.wikipedia.org/wiki/Python\">Python</a>"
   ]
  },
  {
   "cell_type": "markdown",
   "id": "40b550e8",
   "metadata": {},
   "source": [
    "<a id=\"ii-sintaxis\"></a>\n",
    "### B. Sintaxis\n",
    "\n",
    "La sintaxis de `Python` permite a los programadores codificar utilizando menos pasos en comparación con otros lenguajes.\n",
    "\n",
    "Veamos como ejemplo nuestro primer código y primer programa clásico en cualquier lenguaje de programación, el popular `Hello world!`:"
   ]
  },
  {
   "cell_type": "code",
   "execution_count": 2,
   "id": "5385c000",
   "metadata": {},
   "outputs": [
    {
     "name": "stdout",
     "output_type": "stream",
     "text": [
      "Hello world!\n"
     ]
    }
   ],
   "source": [
    "print(\"Hello world!\")"
   ]
  },
  {
   "cell_type": "markdown",
   "id": "cafadf66",
   "metadata": {},
   "source": [
    "**Principios básicos de la sintaxis de `Python`**\n",
    "\n",
    "\n",
    "Usemos el siguiente ejemplo en `Python` para explicar los principios básicos de su sintaxis.\n",
    "\n",
    "- Existen palabras reservadas, e.g., `def` para ***definir*** una función o método. Las demas palabras reservadas pueden ser consultados en la Tabla 1.\n",
    "- El código se escribe y se ejecuta de arriba hacia abajo\n",
    "- Indentación obligatoria\n",
    "- Puedes usar `#` para comentar una línea o `\"\"\"COMENT\"\"\"` para comentarios multilínea\n",
    "- Cualquier colección de números por defecto o índices de los elementos, comenzará en cero.\n",
    "\n",
    "<br>\n",
    "<p align=\"center\">\n",
    "  <a target=\"_blank\">\n",
    "    <img width=\"500px\" src=\"https://i.imgur.com/CmRLui2.jpg\" alt=\"python-interpreter\">\n",
    "  </a><br>\n",
    "  <b>Tabla 1:</b> Palabras reservadas de <code>Python</code>.\n",
    "</p><br>\n",
    "\n",
    "\n",
    "Programemos una función que dado un número de filas, construirá una \"pirámide\" con asteriscos (`\"*\"`):"
   ]
  },
  {
   "cell_type": "code",
   "execution_count": 3,
   "id": "16c60b64",
   "metadata": {},
   "outputs": [
    {
     "name": "stdout",
     "output_type": "stream",
     "text": [
      "*\n",
      "**\n",
      "***\n",
      "****\n",
      "*****\n",
      "******\n",
      "*******\n",
      "********\n",
      "*********\n",
      "**********\n",
      "***********\n",
      "************\n"
     ]
    }
   ],
   "source": [
    "def create_pyramid(rows):\n",
    "    \"\"\"\n",
    "    Create a \\\"pyramide\\\"\n",
    "    \n",
    "    Parameters\n",
    "    ----------\n",
    "        - rows: Default int. Number of rows the pyramide will have.\n",
    "\n",
    "    \"\"\"\n",
    "    for row in range(rows):\n",
    "        print('*' * (row + 1))  # Collection of indices of the form [0, 1, 2, 3,..., n_rows]\n",
    "\n",
    "\n",
    "create_pyramid(12)"
   ]
  },
  {
   "cell_type": "markdown",
   "id": "4e3ec71f",
   "metadata": {},
   "source": [
    "## Ejercicio 1\n",
    "\n",
    "Ahora modifiquemos el código para hacer que la pirámide esté centrada y simétrica, i.e., que haya una columna vertebral de asteriscos en el centro, de longitud equivalente al número de filas `n_rows` y posteriormente, el mismo número de asteriscos a cada lado de la columna vertebral. A continuación, puede ver el resultado que se quiere obtener:\n",
    "\n",
    "\n",
    "\n",
    "\n",
    "```sh\n",
    "    *\n",
    "   ***\n",
    "  *****\n",
    " *******\n",
    "*********\n",
    "    .\n",
    "    .\n",
    "    .\n",
    "```\n",
    "\n",
    "\n",
    "\n",
    "\n",
    "Para ello, debemos modificar el código para hacer que el número de asteriscos en cada fila corresponda a la sucesión de números impares³:\n",
    "\n",
    "\n",
    "$$S(n) = 2n + 1,$$\n",
    "\n",
    "\n",
    "donde $n$ corresponde al conjunto de los números naturales $\\mathbb{N}$, i.e., $[0,1,2,3,...]$.\n",
    "\n",
    "---\n",
    "³ [Parity (mathematics)](https://en.wikipedia.org/wiki/Parity_(mathematics))\n"
   ]
  },
  {
   "cell_type": "code",
   "execution_count": 4,
   "id": "f477d45c",
   "metadata": {},
   "outputs": [
    {
     "name": "stdout",
     "output_type": "stream",
     "text": [
      "            *            \n",
      "           ***           \n",
      "          *****          \n",
      "         *******         \n",
      "        *********        \n",
      "       ***********       \n",
      "      *************      \n",
      "     ***************     \n",
      "    *****************    \n",
      "   *******************   \n",
      "  *********************  \n",
      " *********************** \n"
     ]
    }
   ],
   "source": [
    "def create_pyramid(rows):\n",
    "    \"\"\"\n",
    "    Create a \\\"pyramide\\\"\n",
    "    \n",
    "    Parameters\n",
    "    ----------\n",
    "        - rows: Default int. Number of rows the pyramide will have.\n",
    "\n",
    "    \"\"\"\n",
    "    for row in range(rows):\n",
    "        spaces = rows - row\n",
    "        print((' ' * spaces) + ('*' * (2 * row + 1)) + (' ' * spaces))\n",
    "\n",
    "\n",
    "create_pyramid(12)"
   ]
  },
  {
   "cell_type": "markdown",
   "id": "c524f99b",
   "metadata": {},
   "source": [
    "¿Y cómo sería el mismo código en otros lenguajes?\n",
    "\n",
    "\n",
    "<p align=\"center\">\n",
    " <a target=\"_blank\">\n",
    "   <img width=\"500px\" src=\"https://i.imgur.com/KmMUUT8.png\" alt=\"python-interpreter\">\n",
    " </a>\n",
    "</p><br>\n",
    "\n",
    "\n",
    "<p align=\"center\">\n",
    " <a target=\"_blank\">\n",
    "   <img width=\"500px\" src=\"https://i.imgur.com/E5yNp4u.png\" alt=\"python-interpreter\">\n",
    " </a>\n",
    "</p><br>\n",
    "\n",
    "\n",
    "¿Y la pirámide?\n",
    "\n",
    "\n",
    "<p align=\"center\">\n",
    " <a target=\"_blank\">\n",
    "   <img width=\"500px\" src=\"https://i.imgur.com/WGzVBOj.jpg\" alt=\"python-interpreter\">\n",
    " </a>\n",
    "</p><br>\n",
    "\n",
    "\n",
    "Las colecciones son tipos de estructura de datos ampliamente utilizadas en la programación:\n",
    "\n",
    "\n",
    "<p align=\"center\">\n",
    " <a target=\"_blank\">\n",
    "   <img width=\"500px\" src=\"https://i.imgur.com/jHXVkKQ.png\" alt=\"python-interpreter\">\n",
    " </a>\n",
    "</p><br>\n",
    "\n",
    "\n",
    "Otros tarea bastante común es cargar un archivo de datos:\n",
    "\n",
    "\n",
    "<p align=\"center\">\n",
    " <a target=\"_blank\">\n",
    "   <img width=\"500px\" src=\"https://i.imgur.com/HvfBc33.png\" alt=\"python-interpreter\">\n",
    " </a>\n",
    "</p><br>\n",
    "\n",
    "\n",
    "Es clara la simplicidad que ofrece `Python`. Es esa \"simplicidad\" una de las cualidades más apreciadas, que junto a poder llamar a otros lenguajes de programación como `C` y `C++`, han hecho que `Python` haya ganado tanta popularidad.\n",
    "\n",
    "\n",
    "<p align=\"center\">\n",
    " <a target=\"_blank\">\n",
    "   <img width=\"500px\" src=\"https://i.imgur.com/W3nGS1M.png\" alt=\"python-interpreter\">\n",
    " </a>\n",
    "</p><br>"
   ]
  },
  {
   "cell_type": "code",
   "execution_count": 5,
   "id": "cb17a3f8",
   "metadata": {},
   "outputs": [
    {
     "data": {
      "text/html": [
       "<p align=\"left\">\n",
       "  <iframe width=\"560\" height=\"315\" src=\"https://www.youtube.com/embed/qQXXI5QFUfw?start=304\" title=\"YouTube video player\" frameborder=\"0\" allow=\"accelerometer; autoplay; clipboard-write; encrypted-media; gyroscope; picture-in-picture; web-share\" allowfullscreen></iframe><br>\n",
       "  <b>Video 1:</b> Cronología actualizada de los lenguajes de programación más populares desde 1965 hasta 2022. Agregación de múltiples encuestas nacionales más una tasa de ocurrencia de publicaciones en todo el mundo. La popularidad se define por el porcentaje de programadores con competencia en un idioma específico o que están aprendiendo actualmente <code>Python</code>.\n",
       "</p><br>\n"
      ],
      "text/plain": [
       "<IPython.core.display.HTML object>"
      ]
     },
     "metadata": {},
     "output_type": "display_data"
    }
   ],
   "source": [
    "%%html\n",
    "<p align=\"left\">\n",
    "  <iframe width=\"560\" height=\"315\" src=\"https://www.youtube.com/embed/qQXXI5QFUfw?start=304\" title=\"YouTube video player\" frameborder=\"0\" allow=\"accelerometer; autoplay; clipboard-write; encrypted-media; gyroscope; picture-in-picture; web-share\" allowfullscreen></iframe><br>\n",
    "  <b>Video 1:</b> Cronología actualizada de los lenguajes de programación más populares desde 1965 hasta 2022. Agregación de múltiples encuestas nacionales más una tasa de ocurrencia de publicaciones en todo el mundo. La popularidad se define por el porcentaje de programadores con competencia en un idioma específico o que están aprendiendo actualmente <code>Python</code>.\n",
    "</p><br>"
   ]
  },
  {
   "cell_type": "markdown",
   "id": "5e3828b2",
   "metadata": {},
   "source": [
    "En conclusión, entre las principales ventajas de la sintaxis de <code>Python</code> están:\n",
    "\n",
    "\n",
    "- Fácil de leer, aprender y escribir\n",
    "- Mejora tu productividad\n",
    "- Dinámicamente tipado\n",
    "- Gratis y de código abierto\n",
    "- Amplia compatibilidad con bibliotecas\n",
    "- Portabilidad"
   ]
  },
  {
   "cell_type": "markdown",
   "id": "ae8b55a8",
   "metadata": {},
   "source": [
    "<a id=\"3-conceptos-comunes\"></a>\n",
    "## 3. Conceptos comunes de programación\n",
    "\n",
    "Esta sección cubre conceptos que aparecen en casi todos los lenguajes de programación y cómo funcionan en `Python`. Muchos lenguajes de programación tienen mucho en común en su esencia. Ninguno de los conceptos presentados en este capítulo es exclusivo de `Python`, pero los discutiremos en el contexto de `Python` y explicaremos las convenciones en torno al uso de estos conceptos.\n",
    "\n",
    "Específicamente, aprenderá sobre variables, estructuras de datos básicas, funciones, y flujo de control (operadores logicos, condicionales y bucles). Estos fundamentos estarán en todos los programas de `Python`, y aprenderlos temprano le dará una base sólida para especializarse en cualquier linea, e.g., la ciencia de datos el *big data*."
   ]
  },
  {
   "cell_type": "markdown",
   "id": "473ae0cc",
   "metadata": {},
   "source": [
    "<a id=\"i-estructuras\"></a>\n",
    "### A. Estructuras de datos\n",
    "\n",
    "Las variables en <code>Python</code> son un espacio reservado en memoria que toma un nombre para facilitar el acceso a un valor en específico de algún tipo de dato establecido de <code>Python</code>. Cada variable en <code>Python</code> es de una determinada estructura de datos, pero es el interprete quien infiere de que tipo es la variable. Veremos dos subconjuntos de tipos de datos: escalares o simples y compuestos (Ver Figura 4).\n",
    "\n",
    "<br>\n",
    "<p align=\"center\">\n",
    "  <a target=\"_blank\">\n",
    "    <img width=\"500px\" src=\"https://i.imgur.com/CKKKtMC.png\" alt=\"python-interpreter\">\n",
    "  </a><br>\n",
    "  <b>Figura 4:</b> Estructuras de datos en <code>Python</code>. <code>*</code> El tipo de dato carácter no existe en <code>Python</code>, un carácter simple se representa como cadena de caracteres (<i>string</i>). <code>**</code> Estructuras compuestas de lenguajes como <code>C</code>, <code>C++</code> <code>Fortran</code>, <code>Rust</code>, <code>Go</code> etc. <code>Py</code>: Estructuras compuestas en <code>Python</code>.\n",
    "</p><br>\n",
    "\n",
    "Tenga en cuenta que **<code>Python</code> es un lenguaje de tipado dinámico**, i.e., la mayor parte de su verificación de tipos se realiza en tiempo de ejecución en lugar de en tiempo de compilación. En el tipado dinámica, los tipos están asociados con valores, no con variables.\n",
    "\n",
    "<br>\n",
    "\n",
    "\n",
    "<br>\n",
    "<div class=\"remark\">\n",
    "  <b>Importante:</b>  La acción de asignación se usa para darle a una variable un valor determinado. En <code>Python</code> la acción de asignación de valores a una variable quiere decir que la variable con su nombre determinado se va a asociar al valor de la derecha de la asignación:\n",
    "\n",
    "  ```python\n",
    "  # Asignación\n",
    "  a = 2\n",
    "  ```\n",
    "\n",
    "</div><br>\n",
    "\n",
    "\n",
    "**Datos simples o escalares**\n",
    "\n",
    "Los datos elementales son los datos simples, llamados también escalares por ser objetos\n",
    "indivisibles que representan un único valor. Los datos simples son de tipo: entero, real o de coma/punto flotante (*floating-point* o simplemente *float*), booleano y carácter. En Python no existe el tipo\n",
    "de dato escalar carácter.\n",
    "\n",
    "\n",
    "**Números**\n",
    "\n",
    "Para definir un número entero, utilice la siguiente sintaxis:"
   ]
  },
  {
   "cell_type": "code",
   "execution_count": 6,
   "id": "714c9d8d",
   "metadata": {},
   "outputs": [
    {
     "name": "stdout",
     "output_type": "stream",
     "text": [
      "4 <class 'int'>\n"
     ]
    }
   ],
   "source": [
    "my_int = 4\n",
    "print(my_int, type(my_int))"
   ]
  },
  {
   "cell_type": "markdown",
   "id": "51d09a5d",
   "metadata": {},
   "source": [
    "Para definir un número de punto flotante, puede usar una de las siguientes notaciones:"
   ]
  },
  {
   "cell_type": "code",
   "execution_count": 7,
   "id": "9e043540",
   "metadata": {},
   "outputs": [
    {
     "name": "stdout",
     "output_type": "stream",
     "text": [
      "4.0\n",
      "5.0\n"
     ]
    }
   ],
   "source": [
    "my_float = 4.0\n",
    "print(my_float)\n",
    "my_float = float(5)\n",
    "print(my_float)"
   ]
  },
  {
   "cell_type": "markdown",
   "id": "faabddbb",
   "metadata": {},
   "source": [
    "**Booleanos**\n",
    "\n",
    "Los valores booleanos se definen a través de las palabras reservadas `True` y `False`:"
   ]
  },
  {
   "cell_type": "code",
   "execution_count": 8,
   "id": "8b0055d9",
   "metadata": {},
   "outputs": [
    {
     "name": "stdout",
     "output_type": "stream",
     "text": [
      "True\n",
      "\n",
      " True\n",
      "\n",
      " False\n",
      "\n",
      " False\n",
      "\n",
      " True\n",
      "\n",
      " False\n"
     ]
    }
   ],
   "source": [
    "is_number = True\n",
    "print(is_number)\n",
    "\n",
    "is_number = bool(1)\n",
    "print(\"\\n\", is_number)\n",
    "\n",
    "is_number = False\n",
    "print(\"\\n\", is_number)\n",
    "\n",
    "is_number = bool(0)\n",
    "print(\"\\n\", is_number)\n",
    "\n",
    "a = \"4\"\n",
    "is_number = a.isnumeric()\n",
    "print(\"\\n\", is_number)\n",
    "\n",
    "a = \"a\"\n",
    "is_number = a.isnumeric()\n",
    "print(\"\\n\", is_number)"
   ]
  },
  {
   "cell_type": "markdown",
   "id": "317bd41b",
   "metadata": {},
   "source": [
    "**Datos compuestos**\n",
    "\n",
    "Los tipos compuestos pueden agrupar varios valores en un solo tipo. \n",
    "\n",
    "***Strings***\n",
    "\n",
    "Las cadenas de caracteres o *strings* se definen con comillas simples o comillas dobles.:"
   ]
  },
  {
   "cell_type": "code",
   "execution_count": 9,
   "id": "74c61efa",
   "metadata": {},
   "outputs": [
    {
     "name": "stdout",
     "output_type": "stream",
     "text": [
      "Hello World!\n",
      "\n",
      " Hello\n",
      "\n",
      " HELLO\n",
      "\n",
      " hello\n",
      "\n",
      " Hello\n",
      "\n",
      " Hello World!\n",
      "\n",
      " helloworld\n"
     ]
    }
   ],
   "source": [
    "my_string = 'Hello World!'\n",
    "print(my_string)\n",
    "\n",
    "my_string = \"Hello\"\n",
    "print(\"\\n\", my_string)\n",
    "\n",
    "my_string = my_string.upper()\n",
    "print(\"\\n\", my_string)\n",
    "\n",
    "my_string = my_string.lower()\n",
    "print(\"\\n\", my_string)\n",
    "\n",
    "my_string = my_string.title()\n",
    "print(\"\\n\", my_string)\n",
    "\n",
    "my_string = my_string + \" World!\"\n",
    "print(\"\\n\", my_string)\n",
    "\n",
    "hello = \"hello\"\n",
    "world = \"world\"\n",
    "print(\"\\n\", hello + world)\n"
   ]
  },
  {
   "cell_type": "markdown",
   "id": "9b62fe57",
   "metadata": {},
   "source": [
    "**Tuplas**\n",
    "\n",
    "Los tuplas son estructuras de datos de tipo `collection`, que pueden contener varios valores de diferentes tipos simples. Una de las principales características de las tuplas es que estas son **inmutables**, i.e., no se pueden modificar los valores de sus elementos. Una tupla se definen a través del operador `()`, separando por comas cada elemento:"
   ]
  },
  {
   "cell_type": "code",
   "execution_count": 10,
   "id": "91457519",
   "metadata": {},
   "outputs": [
    {
     "name": "stdout",
     "output_type": "stream",
     "text": [
      "('a', 1)\n",
      "\n",
      " ('b', 2)\n",
      "\n",
      " First element of \"my_tuple\": b\n",
      "\n",
      " Second element of \"my_tuple\": 2\n"
     ]
    }
   ],
   "source": [
    "my_tuple = (\"a\", 1)\n",
    "print(my_tuple)\n",
    "\n",
    "my_tuple = tuple([\"b\", 2])\n",
    "print(\"\\n\", my_tuple)\n",
    "\n",
    "print(f\"\\n First element of \\\"my_tuple\\\": {my_tuple[0]}\")\n",
    "print(f\"\\n Second element of \\\"my_tuple\\\": {my_tuple[1]}\")"
   ]
  },
  {
   "cell_type": "markdown",
   "id": "53766559",
   "metadata": {},
   "source": [
    "Inmutabilidad de las tuplas en `Python`:"
   ]
  },
  {
   "cell_type": "code",
   "execution_count": 11,
   "id": "16d5ce0b",
   "metadata": {},
   "outputs": [],
   "source": [
    "# my_tuple[0] = \"c\""
   ]
  },
  {
   "cell_type": "markdown",
   "id": "f800bb79",
   "metadata": {},
   "source": [
    "**Listas**\n",
    "\n",
    "Las listas tambien son estructuras de tipo `collection`, que tambien pueden contener varios valores de diferentes tipos simples. A diferencia de las **tuplas**, las listas si son **mutables**, i.e., se pueden modificar o actualizar los valores de sus elementos. Una lista se definen a través del operador `[]`, separando por comas cada elemento:"
   ]
  },
  {
   "cell_type": "code",
   "execution_count": 12,
   "id": "caf295b0",
   "metadata": {},
   "outputs": [
    {
     "name": "stdout",
     "output_type": "stream",
     "text": [
      "1\n",
      "2\n",
      "3\n",
      "\n",
      " [1, 2, 3]\n",
      "\n",
      " ['a', 1, 'b', 2]\n",
      "\n",
      " ['a', 1, 'c', 2]\n"
     ]
    }
   ],
   "source": [
    "my_list = []\n",
    "my_list.append(1)\n",
    "my_list.append(2)\n",
    "my_list.append(3)\n",
    "print(my_list[0]) # prints 1\n",
    "print(my_list[1]) # prints 2\n",
    "print(my_list[2]) # prints 3\n",
    "print(\"\\n\", my_list)\n",
    "\n",
    "my_list = [\"a\", 1, \"b\", 2]\n",
    "print(\"\\n\", my_list)\n",
    "\n",
    "my_list[2] = \"c\"\n",
    "print(\"\\n\", my_list)"
   ]
  },
  {
   "cell_type": "markdown",
   "id": "308c6e35",
   "metadata": {},
   "source": [
    "**Diccionarios**\n",
    "\n",
    "Un diccionario es un tipo de dato que funciona con pares de clave y valor en lugar de índices numerico. Se puede acceder a cada valor almacenado en un diccionario usando una clave, que es cualquier tipo de objeto (una cadena, un número, una lista, etc.) en lugar de usar su índice para direccionarlo.\n",
    "\n",
    "Por ejemplo, una base de datos de números de teléfono podría almacenarse usando un diccionario como este:"
   ]
  },
  {
   "cell_type": "code",
   "execution_count": 13,
   "id": "aa5f2684",
   "metadata": {},
   "outputs": [
    {
     "name": "stdout",
     "output_type": "stream",
     "text": [
      "{'Juan': 987654321, 'Luisa': 987123654, 'Yesica': 987456321}\n",
      "\n",
      " {'Juan': 123456789, 'Luisa': 123789456, 'Yesica': 123654987}\n",
      "\n",
      " {'Juan': 123456789, 'Luisa': 123789456, 'Yesica': 123654987, 'Carlos': 987654321}\n",
      "\n",
      " {'Juan': 123456789, 'Yesica': 123654987, 'Carlos': 987654321}\n"
     ]
    }
   ],
   "source": [
    "phone_book = {}\n",
    "phone_book[\"Juan\"] = 987654321\n",
    "phone_book[\"Luisa\"] = 987123654\n",
    "phone_book[\"Yesica\"] = 987456321\n",
    "print(phone_book)\n",
    "\n",
    "phone_book = {\n",
    "    \"Juan\": 123456789,\n",
    "    \"Luisa\": 123789456,\n",
    "    \"Yesica\": 123654987,\n",
    "}\n",
    "print(\"\\n\", phone_book)\n",
    "\n",
    "phone_book[\"Carlos\"] = 987654321\n",
    "print(\"\\n\", phone_book)\n",
    "\n",
    "del phone_book[\"Luisa\"]\n",
    "print(\"\\n\", phone_book)"
   ]
  },
  {
   "cell_type": "markdown",
   "id": "2a0ae8e1",
   "metadata": {},
   "source": [
    "## Ejercicio 2\n",
    "\n",
    "El objetivo de este ejercicio es crear dos variables tipo *string*, un número entero y un número de punto flotante. Una de las cadenas debe llamarse `my_string` y debe contener la palabra `\"hola\"`. El otro *string* debe llamarse `name` y puede contener el nombre que desee. El número de punto flotante debe llamarse `my_float` y debe contener el número `3.14159`."
   ]
  },
  {
   "cell_type": "code",
   "execution_count": 14,
   "id": "00b6efe8",
   "metadata": {},
   "outputs": [
    {
     "name": "stdout",
     "output_type": "stream",
     "text": [
      "String: hello joseph\n",
      "\n",
      "Float: 3.142\n"
     ]
    }
   ],
   "source": [
    "# change this code\n",
    "my_string = \"hello\"\n",
    "my_name = \"joseph\"\n",
    "my_float = 3.14159\n",
    "\n",
    "# testing code\n",
    "if my_string == \"hello\":\n",
    "    print(f\"String: %s {my_name}\" % my_string)\n",
    "if isinstance(my_float, float) and my_float == 3.14159:\n",
    "    print(f\"\\nFloat: %.3f\" % my_float)"
   ]
  },
  {
   "cell_type": "markdown",
   "id": "84026782",
   "metadata": {},
   "source": [
    "Ahora, cree una variable entera y llámela `my_int` y asígnele el número `12`. A continuación, agregue la validación del tipo ***Y*** Verifique que efectivamente la variable `my_int` contiene el número `12`."
   ]
  },
  {
   "cell_type": "code",
   "execution_count": 15,
   "id": "2334cd4a",
   "metadata": {},
   "outputs": [
    {
     "name": "stdout",
     "output_type": "stream",
     "text": [
      "String: hello joseph\n",
      "\n",
      "Float: 3.142\n",
      "\n",
      "Integer:  12\n"
     ]
    }
   ],
   "source": [
    "# change this code\n",
    "my_string = \"hello\"\n",
    "my_name = \"joseph\"\n",
    "my_float = 3.14159\n",
    "my_int = 12\n",
    "\n",
    "# testing code\n",
    "if my_string == \"hello\":\n",
    "    print(f\"String: %s {my_name}\" % my_string)\n",
    "if isinstance(my_float, float) and my_float == 3.14159:\n",
    "    print(f\"\\nFloat: %.3f\" % my_float)\n",
    "if isinstance(my_int, int) and my_int == 12:\n",
    "    print(\"\\nInteger: \", my_int)"
   ]
  },
  {
   "cell_type": "markdown",
   "id": "ac16acab",
   "metadata": {},
   "source": [
    "<a id=\"ii-operadores-basicos\"></a>\n",
    "### B. Operadores Básicos\n",
    "\n",
    "**Operadores aritméticos**\n",
    "\n",
    "Al igual que en otros lenguajes de programación, en `Python` se utilizan operadores para realizar operaciones aritméticas con datos numéricos. Los operadores se representan con símbolos similares a los que se utilizan en una calculadora. En la Tabla 2 se muestran los operadores aritméticos que reconoce `Python`.\n",
    "\n",
    "<br>\n",
    "<p align=\"center\">\n",
    " <a target=\"_blank\">\n",
    "   <img width=\"500px\" src=\"https://i.imgur.com/hB6Acxs.png\" alt=\"python-interpreter\">\n",
    " </a><br>\n",
    " <b>Tabla 2:</b> Operadores aritméticos en <code>Python</code>.\n",
    "</p><br>\n",
    "\n",
    "Cuando se deben hacer operaciones combinadas (divisiones que se suman a una multiplicación, por ejemplo), se pueden usar paréntesis como en matemática para separar una operación de otra. Sin embargo, y también del mismo modo que en matemática, las operaciones tienen un Orden de Prioridad “natural” de operación. Primero se resuelven potencias y raíces. Después cocientes y productos. Y finalmente adiciones y sustracciones (Ver Figura 5).\n",
    "\n",
    "<br>\n",
    "<p align=\"center\">\n",
    " <a target=\"_blank\">\n",
    "   <img width=\"500px\" src=\"https://i.imgur.com/WEftU5h.png\" alt=\"python-interpreter\">\n",
    " </a><br>\n",
    " <b>Figura 5:</b> Jerarquía de los operadores aritméticos en <code>Python</code>.\n",
    "</p><br>"
   ]
  },
  {
   "cell_type": "code",
   "execution_count": 16,
   "id": "3e896530",
   "metadata": {},
   "outputs": [
    {
     "name": "stdout",
     "output_type": "stream",
     "text": [
      "2.5\n",
      "2.25\n"
     ]
    }
   ],
   "source": [
    "number = 1 + 2 * 3 / 4.0\n",
    "print(number)\n",
    "\n",
    "number = (1 + 2) * (3 / 4.0)\n",
    "print(number)"
   ]
  },
  {
   "cell_type": "markdown",
   "id": "33a72aec",
   "metadata": {},
   "source": [
    "**Operadores de division**\n",
    "\n",
    "- División\n",
    "- División entera\n",
    "- Módulo o residuo de una división"
   ]
  },
  {
   "cell_type": "code",
   "execution_count": 17,
   "id": "8d97c440",
   "metadata": {},
   "outputs": [
    {
     "name": "stdout",
     "output_type": "stream",
     "text": [
      "3.6666666666666665\n",
      "3\n",
      "2\n"
     ]
    }
   ],
   "source": [
    "remainder = 11 / 3\n",
    "print(remainder)\n",
    "\n",
    "remainder = 11 // 3\n",
    "print(remainder)\n",
    "\n",
    "remainder = 11 % 3\n",
    "print(remainder)"
   ]
  },
  {
   "cell_type": "markdown",
   "id": "0878f374",
   "metadata": {},
   "source": [
    "**Operador potencia**"
   ]
  },
  {
   "cell_type": "code",
   "execution_count": 18,
   "id": "1d503f3b",
   "metadata": {},
   "outputs": [
    {
     "name": "stdout",
     "output_type": "stream",
     "text": [
      "49\n",
      "8\n"
     ]
    }
   ],
   "source": [
    "squared = 7 ** 2\n",
    "cubed = 2 ** 3\n",
    "print(squared)\n",
    "print(cubed)"
   ]
  },
  {
   "cell_type": "markdown",
   "id": "be91bf81",
   "metadata": {},
   "source": [
    "**Operadores sobre** ***strings***"
   ]
  },
  {
   "cell_type": "code",
   "execution_count": 19,
   "id": "43b74505",
   "metadata": {},
   "outputs": [
    {
     "name": "stdout",
     "output_type": "stream",
     "text": [
      "hello world\n",
      "hello hello hello hello hello hello hello hello hello hello \n"
     ]
    }
   ],
   "source": [
    "hello_world = \"hello\" + \" \" + \"world\"\n",
    "print(hello_world)\n",
    "\n",
    "lots_of_hellos = \"hello \" * 10\n",
    "print(lots_of_hellos)"
   ]
  },
  {
   "cell_type": "markdown",
   "id": "3538c728",
   "metadata": {},
   "source": [
    "**Operadores sobre listas**"
   ]
  },
  {
   "cell_type": "code",
   "execution_count": 20,
   "id": "4a6d0d10",
   "metadata": {},
   "outputs": [
    {
     "name": "stdout",
     "output_type": "stream",
     "text": [
      "[1, 3, 5, 7, 2, 4, 6, 8]\n",
      "[1, 3, 5, 7, 2, 4, 6, 8, 1, 3, 5, 7, 2, 4, 6, 8, 1, 3, 5, 7, 2, 4, 6, 8]\n"
     ]
    }
   ],
   "source": [
    "even_numbers = [2, 4, 6, 8]\n",
    "odd_numbers = [1, 3, 5, 7]\n",
    "all_numbers = odd_numbers + even_numbers\n",
    "print(all_numbers)\n",
    "\n",
    "print(all_numbers * 3)"
   ]
  },
  {
   "cell_type": "markdown",
   "id": "588814d0",
   "metadata": {},
   "source": [
    "**Operadores aritméticos con asignaciones**\n",
    "\n",
    "<br>\n",
    "<p align=\"center\">\n",
    " <a target=\"_blank\">\n",
    "   <img width=\"500px\" src=\"https://i.imgur.com/7EY5mhW.png\" alt=\"python-interpreter\">\n",
    " </a><br>\n",
    " <b>Tabla 3:</b> Compactaciones de los operadores aritméticos y el operador de asignación en <code>Python</code>.\n",
    "</p><br>"
   ]
  },
  {
   "cell_type": "code",
   "execution_count": 21,
   "id": "8ff0e25c",
   "metadata": {},
   "outputs": [
    {
     "name": "stdout",
     "output_type": "stream",
     "text": [
      "9\n",
      "11\n"
     ]
    }
   ],
   "source": [
    "c, d = 4, 5\n",
    "print(c + d)\n",
    "c = c + 1\n",
    "d = d + 1\n",
    "print(c + d)\n"
   ]
  },
  {
   "cell_type": "markdown",
   "id": "3f9011c6",
   "metadata": {},
   "source": [
    "Una vez definidades las variables `c` y `d`, entonces:"
   ]
  },
  {
   "cell_type": "code",
   "execution_count": 22,
   "id": "6135d76e",
   "metadata": {},
   "outputs": [
    {
     "name": "stdout",
     "output_type": "stream",
     "text": [
      "10 \n",
      "\n",
      "6.01\n"
     ]
    }
   ],
   "source": [
    "c += 1\n",
    "d -= 2\n",
    "print(c + d, \"\\n\")\n",
    "\n",
    "x = 6\n",
    "x += 0.01\n",
    "print(x)"
   ]
  },
  {
   "cell_type": "code",
   "execution_count": 23,
   "id": "4e55a2b6",
   "metadata": {},
   "outputs": [
    {
     "name": "stdout",
     "output_type": "stream",
     "text": [
      "25\n",
      "3\n",
      "9\n"
     ]
    }
   ],
   "source": [
    "y = 5\n",
    "y *= d+1\n",
    "print(y)\n",
    "\n",
    "n = 7\n",
    "n //= 2\n",
    "print(n)\n",
    "\n",
    "n **= 2\n",
    "print(n)"
   ]
  },
  {
   "cell_type": "markdown",
   "id": "5f08d0c8",
   "metadata": {},
   "source": [
    "**Operadores lógicos**\n",
    "\n",
    "Los operadores lógicos o booleanos operan sobre tipo de datos booleanos. Estas operaciones son “y lógico” o conjunción, “o lógico” o disyunción sobre dos operandos y la “negación” que es un operador unario. En Python las palabras reservadas para estas operaciones son `and`, `or` y `not`, respectivamente. Recordamos que los valores lógicos en Python son `True` y `False` para los valores cierto (1 lógico) y falso (0 lógico), respectivamente. Los resultados de las posibles operaciones logicas se visualizan en la Tabla 4. Al mismo tiempo, los simboles de los operadores logicos pueden verse en la Tabla 5.\n",
    "\n",
    "<br>\n",
    "<p align=\"center\">\n",
    " <a target=\"_blank\">\n",
    "   <img width=\"500px\" src=\"https://i.imgur.com/B1ELI61.png\" alt=\"python-interpreter\">\n",
    " </a><br>\n",
    " <b>Tabla 4:</b> Resultados de las operaciones logicas.\n",
    "</p><br>\n",
    "\n",
    "<br>\n",
    "<p align=\"center\">\n",
    " <a target=\"_blank\">\n",
    "   <img width=\"500px\" src=\"https://i.imgur.com/JsNZClr.png\" alt=\"python-interpreter\">\n",
    " </a><br>\n",
    " <b>Tabla 5:</b> Simbolos para los operadores logicos en <code>Python</code>.\n",
    "</p><br>"
   ]
  },
  {
   "cell_type": "code",
   "execution_count": 24,
   "id": "cfc50060",
   "metadata": {},
   "outputs": [
    {
     "name": "stdout",
     "output_type": "stream",
     "text": [
      "True\n",
      "False\n",
      "False\n",
      "True\n"
     ]
    }
   ],
   "source": [
    "A = True\n",
    "B = False\n",
    "print(A or B)\n",
    "\n",
    "A = True\n",
    "B = False\n",
    "print(A and B)\n",
    "\n",
    "print(not A)\n",
    "print(A)"
   ]
  },
  {
   "cell_type": "markdown",
   "id": "42e34606",
   "metadata": {},
   "source": [
    "**Operadores relacionales**\n",
    "\n",
    "Estos operadores son usados para comparar dos expresiones o valores y el resultado siempre es un booleano, es decir, `True` o `False`.\n",
    "\n",
    "\n",
    "<br>\n",
    "<p align=\"center\">\n",
    " <a target=\"_blank\">\n",
    "   <img width=\"500px\" src=\"https://i.imgur.com/UrSYX5D.png\" alt=\"python-interpreter\">\n",
    " </a><br>\n",
    " <b>Tabla 6:</b> Operadores relacionales en <code>Python</code>.\n",
    "</p><br>"
   ]
  },
  {
   "cell_type": "code",
   "execution_count": 25,
   "id": "e23c9a32",
   "metadata": {},
   "outputs": [
    {
     "name": "stdout",
     "output_type": "stream",
     "text": [
      "True\n",
      "\n",
      " True\n",
      "True\n",
      "\n",
      " False\n"
     ]
    }
   ],
   "source": [
    "# For numeric variables\n",
    "temp = 38\n",
    "print((temp >= 37) and (temp <= 42))\n",
    "\n",
    "# For strings\n",
    "char = 'q'\n",
    "print(\"\\n\", (char >= 'a') and (char <= 'z') or (char >= 'A') and (char <= 'Z'))\n",
    "# Equivant to\n",
    "print('a' <= char <= 'z' or 'A' <= char <= 'Z')\n",
    "\n",
    "char = '&'\n",
    "print(\"\\n\", 'a' <= char <= 'z' or 'A' <= char <= 'Z')"
   ]
  },
  {
   "cell_type": "markdown",
   "id": "f9115898",
   "metadata": {},
   "source": [
    "**Operador ternario**\n",
    "\n",
    "Se trata de una versión abreviada de una doble asignación junto a una expresión condicional, que cabe en una sola línea. El operador ternario en `Python` tiene tres partes claramente diferenciadas:\n",
    "\n",
    "- La expresión condicional, que llamaremos `condition`.\n",
    "- La expresión de la izquierda, que llamaremos `left`, y que se evalúa si `contidion` es `True` y se ignora si es `False`.\n",
    "- La expresión de la derecha, que llamaremos `right`, y que se evalúa si `condition` es `False` y se ignora si es `True`.\n",
    "\n",
    "Y la sintaxis es la siguiente:\n",
    "\n",
    "```python\n",
    "result = left if condition else right\n",
    "```"
   ]
  },
  {
   "cell_type": "code",
   "execution_count": 26,
   "id": "ef13d100",
   "metadata": {},
   "outputs": [
    {
     "name": "stdout",
     "output_type": "stream",
     "text": [
      "1\n",
      "0\n"
     ]
    }
   ],
   "source": [
    "char = 'q'\n",
    "is_letter = 1 if 'a' <= char.lower() <= 'z' else 0\n",
    "print(is_letter)\n",
    "\n",
    "char = '&'\n",
    "is_letter = 1 if 'a' <= char.lower() <= 'z' else 0\n",
    "print(is_letter)"
   ]
  },
  {
   "cell_type": "markdown",
   "id": "8d32c21b",
   "metadata": {},
   "source": [
    "<a id=\"iii-control-flujo\"></a>\n",
    "### C. Control del flujo\n",
    "\n",
    "La capacidad de ejecutar algún código dependiendo de si una condición es verdadera (condicion) y ejecutar algún código repetidamente mientras una condición es verdadera (bucle condicional), son bloques de construcción básicos en la mayoría de los lenguajes de programación. Las construcciones más comunes que le permiten controlar el flujo de ejecución del código en `Python` son las expresiones `if` y los bucles.\n",
    "\n",
    "\n",
    "**Condiciones**\n",
    "\n",
    "`Python` usa lógica booleana para evaluar las condiciones. Los valores booleanos `True` y `False` se devuelven cuando se compara o evalúa una expresión. Por ejemplo:"
   ]
  },
  {
   "cell_type": "code",
   "execution_count": 27,
   "id": "c423985f",
   "metadata": {},
   "outputs": [
    {
     "name": "stdout",
     "output_type": "stream",
     "text": [
      "True\n",
      "False\n",
      "True \n",
      "\n",
      "x equals two!\n"
     ]
    }
   ],
   "source": [
    "x = 2\n",
    "print(x == 2)\n",
    "print(x == 3)\n",
    "print(x < 3, \"\\n\")\n",
    "\n",
    "if x == 2:\n",
    "    print(\"x equals two!\")\n",
    "else:\n",
    "    print(\"x does not equal to two.\")"
   ]
  },
  {
   "cell_type": "code",
   "execution_count": 28,
   "id": "4d242f73",
   "metadata": {},
   "outputs": [
    {
     "name": "stdout",
     "output_type": "stream",
     "text": [
      "Your name is Juan, and you are also 32 years old.\n",
      "Your name is either Juan or Ricardo.\n"
     ]
    }
   ],
   "source": [
    "name = \"Juan\"\n",
    "age = 32\n",
    "if name == \"Juan\" and age == 32:\n",
    "    print(f\"Your name is {name}, and you are also {age} years old.\")\n",
    "\n",
    "if name == \"Juan\" or name == \"Ricardo\":\n",
    "    print(f\"Your name is either Juan or Ricardo.\")"
   ]
  },
  {
   "cell_type": "code",
   "execution_count": 29,
   "id": "f75fb30e",
   "metadata": {},
   "outputs": [
    {
     "name": "stdout",
     "output_type": "stream",
     "text": [
      "\n",
      "I have no idea what your name is.\n"
     ]
    }
   ],
   "source": [
    "name = \"Carlos\"\n",
    "if name == \"Juan\" or name == \"Ricardo\":\n",
    "    print(f\"\\nYour name is either Juan or Ricardo.\")\n",
    "else:\n",
    "    print(f\"\\nI have no idea what your name is.\")"
   ]
  },
  {
   "cell_type": "markdown",
   "id": "fd95e639",
   "metadata": {},
   "source": [
    "**El operador `in`**\n",
    "\n",
    "El operador `in` podría usarse para verificar si un objeto específico existe dentro de una coleccion, como una lista:"
   ]
  },
  {
   "cell_type": "code",
   "execution_count": 30,
   "id": "72a81ea2",
   "metadata": {},
   "outputs": [
    {
     "name": "stdout",
     "output_type": "stream",
     "text": [
      "Your name is either Juan or Ricardo.\n"
     ]
    }
   ],
   "source": [
    "name = \"Juan\"\n",
    "if name in [\"Juan\", \"Ricardo\"]:\n",
    "    print(\"Your name is either Juan or Ricardo.\")\n",
    "\n",
    "name = \"Carlos\"\n",
    "if name in [\"Juan\", \"Ricardo\"]:\n",
    "    print(\"Your name is either Juan or Ricardo.\")"
   ]
  },
  {
   "cell_type": "markdown",
   "id": "33fb60c7",
   "metadata": {},
   "source": [
    "***El operador `is`***\n",
    "\n",
    "A diferencia del operador de doble igual `==`, el operador `is` no coincide con los valores de las variables, sino con las instancias mismas. Por ejemplo:"
   ]
  },
  {
   "cell_type": "code",
   "execution_count": 31,
   "id": "c9f50185",
   "metadata": {},
   "outputs": [
    {
     "name": "stdout",
     "output_type": "stream",
     "text": [
      "[1, 2, 3] \n",
      "\n",
      "The list does not exist or has no elements\n"
     ]
    }
   ],
   "source": [
    "x = [1,2,3]\n",
    "y = []\n",
    "\n",
    "if x and isinstance(x, list):\n",
    "    print(x, \"\\n\")\n",
    "else:\n",
    "    print(\"The list does not exist or has no elements\\n\")\n",
    "\n",
    "if y:\n",
    "    print(y)\n",
    "else:\n",
    "    print(\"The list does not exist or has no elements\")"
   ]
  },
  {
   "cell_type": "markdown",
   "id": "050833e9",
   "metadata": {},
   "source": [
    "**Bloque `if/elif/else`**\n",
    "\n",
    "Ya vimos los bloques `if` y los bloques `if/else`. Ahora es el turno de los bloques `if/elif/else`:"
   ]
  },
  {
   "cell_type": "code",
   "execution_count": 32,
   "id": "17e01238",
   "metadata": {},
   "outputs": [
    {
     "name": "stdout",
     "output_type": "stream",
     "text": [
      "OK Carlos, you are not on the list and we will not add you either 👍\n"
     ]
    }
   ],
   "source": [
    "name = \"Carlos\"\n",
    "contact_names = [\"Juan\", \"Ricardo\"]\n",
    "is_contact = name in contact_names\n",
    "desire_add = False\n",
    "if is_contact is True:\n",
    "    print(f\"{name} you are already in the contact list!\")\n",
    "elif desire_add is True:\n",
    "    contact_names.append(name)\n",
    "    print(f\"{name}, you are already in the contact list: {contact_names}\")\n",
    "else:\n",
    "    print(f\"OK {name}, you are not on the list and we will not add you either 👍\")"
   ]
  },
  {
   "cell_type": "markdown",
   "id": "a73f3577",
   "metadata": {},
   "source": [
    "## Ejercicio 3\n",
    "\n",
    "Proponga una variante del escenario de código de la celda anterior, pero ahora usando al menos una vez, cada uno de los operadores `not`, `is` e `in`."
   ]
  },
  {
   "cell_type": "code",
   "execution_count": 33,
   "id": "e85e4493",
   "metadata": {},
   "outputs": [
    {
     "name": "stdout",
     "output_type": "stream",
     "text": [
      "Juan you are already in the contact list!\n"
     ]
    }
   ],
   "source": [
    "name = \"Juan\"\n",
    "contact_names = [\"Juan\", \"Ricardo\"]\n",
    "is_contact = name in contact_names\n",
    "desire_add = True\n",
    "if is_contact is not True and desire_add:\n",
    "    contact_names.append(name)\n",
    "    print(f\"{name}, we just added you to the contact list: {contact_names}\")\n",
    "elif is_contact is False and desire_add is False:\n",
    "    print(f\"OK {name}, you are not on the list and we will not add you either 👍\")\n",
    "else:\n",
    "    print(f\"{name} you are already in the contact list!\")\n"
   ]
  },
  {
   "cell_type": "markdown",
   "id": "bd02efd3",
   "metadata": {},
   "source": [
    "**Bucles**\n",
    "\n",
    "Suele ser útil ejecutar un bloque de código más de una vez. Para esta tarea, `Python` proporciona dos bucles, que se ejecutarán a través del código dentro del cuerpo del bucle hasta el final y luego comenzarán inmediatamente desde el principio. `Python` tiene dos tipos de bucles: `for` and `while`.\n",
    "\n",
    "<br>\n",
    "\n",
    "**Bucle `for` (desde – hasta, para - en)**\n",
    "\n",
    "Cuando en un programa informático se requiere hacer un conjunto de cálculos sobre una serie\n",
    "de datos, es decir, hacer un esquema de recorrido (iteración definida) o aplicar el bloque de\n",
    "instrucciones sobre un grupo de elementos (números, string, etc.) es preferible utilizar la\n",
    "sentencia `for`. En `Python` el bucle `for` se puede leer como ***\"para (`for`) cada elemento (`item`) en (`in`) la coleccion (`list`, `string`, etc.), ejecutar las instrucciones del bloque indentado\"***. Para el esquema ***\"desde – hasta\"***, tenemos que:"
   ]
  },
  {
   "cell_type": "code",
   "execution_count": 34,
   "id": "1acb9dd2",
   "metadata": {},
   "outputs": [
    {
     "name": "stdout",
     "output_type": "stream",
     "text": [
      "0\n",
      "1\n",
      "2\n",
      "3\n",
      "4\n",
      "\n",
      "\n",
      "0\n",
      "1\n",
      "2\n",
      "3\n",
      "4\n"
     ]
    }
   ],
   "source": [
    "for x in range(0, 5, 1):\n",
    "    print(x)\n",
    "\n",
    "print(\"\\n\")\n",
    "\n",
    "for x in range(5):\n",
    "    print(x)"
   ]
  },
  {
   "cell_type": "markdown",
   "id": "b37eb45b",
   "metadata": {},
   "source": [
    "Para el esquema ***\"para – en\"***, igualmente tenemos:"
   ]
  },
  {
   "cell_type": "code",
   "execution_count": 35,
   "id": "9b97a590",
   "metadata": {},
   "outputs": [
    {
     "name": "stdout",
     "output_type": "stream",
     "text": [
      "2\n",
      "3\n",
      "5\n",
      "7\n"
     ]
    }
   ],
   "source": [
    "primes = [2, 3, 5, 7]\n",
    "for prime in primes:\n",
    "    print(prime)"
   ]
  },
  {
   "cell_type": "markdown",
   "id": "8b62c841",
   "metadata": {},
   "source": [
    "**Bucle `while` (mientras)**\n",
    "\n",
    "La sentencia `while` es la composición algorítmica iterativa por excelencia que sirve para\n",
    "cualquier esquema iterativo. En el bucle `while`, la secuencia de instrucciones se repite siempre que la condición dada por el valor de una variable o expresión booleana sea verdadera. En `Python` el bucle `while` se puede leer como ***\"mientras (`while`) la condicion (`contidion`) se cumpla, ejecute las instrucciones del bloque indentado\"***. Para explicarlo, utilicemos uno de los recursos mas usados en la programacion, un contador:"
   ]
  },
  {
   "cell_type": "code",
   "execution_count": 36,
   "id": "efc7fc92",
   "metadata": {},
   "outputs": [
    {
     "name": "stdout",
     "output_type": "stream",
     "text": [
      "0\n",
      "1\n",
      "2\n",
      "3\n",
      "4\n"
     ]
    }
   ],
   "source": [
    "count = 0\n",
    "while count < 5:\n",
    "    print(count)\n",
    "    count += 1"
   ]
  },
  {
   "cell_type": "markdown",
   "id": "7e199236",
   "metadata": {},
   "source": [
    "**Declaraciones `break` y `continue`**\n",
    "\n",
    "`break` se usa para salir de un ciclo `for` o `while`, mientras que `continue` se usa para omitir la iteracion en el bloque actual y volver a la instrucción `for` o `while`. Algunos ejemplos:"
   ]
  },
  {
   "cell_type": "code",
   "execution_count": 37,
   "id": "eaea3d23",
   "metadata": {},
   "outputs": [
    {
     "name": "stdout",
     "output_type": "stream",
     "text": [
      "0\n",
      "1\n",
      "2\n",
      "3\n",
      "4\n",
      "\n",
      "\n",
      "1\n",
      "3\n",
      "5\n",
      "7\n",
      "9\n"
     ]
    }
   ],
   "source": [
    "count = 0\n",
    "while True:\n",
    "    print(count)\n",
    "    count += 1\n",
    "    if count >= 5:\n",
    "        break\n",
    "\n",
    "print(\"\\n\")\n",
    "\n",
    "for x in range(10):\n",
    "    if x % 2 == 0:\n",
    "        continue\n",
    "    print(x)"
   ]
  },
  {
   "cell_type": "markdown",
   "id": "1a1773ea",
   "metadata": {},
   "source": [
    "## Ejercicio 4\n",
    "\n",
    "Recorra e imprima todos los números pares de la lista de números en el mismo orden en que se reciben. No imprima ningún número que venga después del 237 en la secuencia."
   ]
  },
  {
   "cell_type": "code",
   "execution_count": 38,
   "id": "752bc60c",
   "metadata": {},
   "outputs": [
    {
     "name": "stdout",
     "output_type": "stream",
     "text": [
      "402\n",
      "984\n",
      "360\n",
      "408\n",
      "980\n",
      "544\n",
      "390\n",
      "984\n",
      "592\n",
      "236\n",
      "942\n",
      "386\n",
      "462\n",
      "418\n",
      "344\n",
      "236\n",
      "566\n",
      "978\n",
      "328\n",
      "162\n",
      "758\n",
      "918\n"
     ]
    }
   ],
   "source": [
    "numbers = [\n",
    "    951, 402, 984, 651, 360, 69, 408, 319, 601, 485, 980, 507, 725, 547, 544,\n",
    "    615, 83, 165, 141, 501, 263, 617, 865, 575, 219, 390, 984, 592, 236, 105, 942, 941,\n",
    "    386, 462, 47, 418, 907, 344, 236, 375, 823, 566, 597, 978, 328, 615, 953, 345,\n",
    "    399, 162, 758, 219, 918, 237, 412, 566, 826, 248, 866, 950, 626, 949, 687, 217,\n",
    "    815, 67, 104, 58, 512, 24, 892, 894, 767, 553, 81, 379, 843, 831, 445, 742, 717,\n",
    "    958, 609, 842, 451, 688, 753, 854, 685, 93, 857, 440, 380, 126, 721, 328, 753, 470,\n",
    "    743, 527\n",
    "]\n",
    "\n",
    "for number in numbers:\n",
    "    if number == 237:\n",
    "        break\n",
    "\n",
    "    if number % 2 == 0:\n",
    "        print(number)\n",
    "    else:\n",
    "        continue"
   ]
  },
  {
   "cell_type": "markdown",
   "id": "500ece29",
   "metadata": {},
   "source": [
    "<a id=\"iv-funciones\"></a>\n",
    "### D. Funciones\n",
    "\n",
    "Si queremos diseñar funciones debemos definirlas. En Python la definición de una función es de la forma:\n",
    "\n",
    "```python\n",
    "def function_name(parameters):\n",
    "    function_body\n",
    "```\n",
    "\n",
    "Se usa la palabra reservada (keyword) de Python def para indicar que en esta línea comienza la definición de la función, luego ponemos el nombre de la función con un identificador válido y entre paréntesis los parámetros de entrada de la función.  Los parámetros se relacionan con los valores que le son pasados como argumentos. Python requiere que la función esté definida antes de que sea usada."
   ]
  },
  {
   "cell_type": "code",
   "execution_count": 39,
   "id": "119073d7",
   "metadata": {},
   "outputs": [
    {
     "name": "stdout",
     "output_type": "stream",
     "text": [
      "Gain = 40.0 dB\n"
     ]
    }
   ],
   "source": [
    "from math import log10\n",
    "\n",
    "\n",
    "def calculate_gain_in_db(vi, vo):\n",
    "    \"\"\"\n",
    "    Compute the gain in dB: 20log(y/x)\n",
    "    \"\"\"\n",
    "    gain = vo/vi\n",
    "    db = 20*log10(gain)\n",
    "    return db\n",
    "\n",
    "\n",
    "vi, vo = 10, 1000\n",
    "gain_db = calculate_gain_in_db(vi=vi, vo=vo)\n",
    "print('Gain =', gain_db, 'dB')"
   ]
  },
  {
   "cell_type": "code",
   "execution_count": 40,
   "id": "039b2c4f",
   "metadata": {},
   "outputs": [
    {
     "name": "stdout",
     "output_type": "stream",
     "text": [
      "Gain = 40.0 dB\n"
     ]
    }
   ],
   "source": [
    "from math import log10\n",
    "\n",
    "\n",
    "def calculate_gain_in_db(vi, vo):\n",
    "    \"\"\"\n",
    "    Compute the gain in dB: 20log(y/x)\n",
    "    \"\"\"\n",
    "    return 20*log10(vo/vi)\n",
    "\n",
    "\n",
    "print('Gain =', calculate_gain_in_db(vi=10, vo=1000), 'dB')"
   ]
  },
  {
   "cell_type": "markdown",
   "id": "5336b098",
   "metadata": {},
   "source": [
    "## Ejercicio 5\n",
    "\n",
    "Diseña una función `cartesian_coordinates(mod, ang)` que reciba el valor del módulo y de su ángulo en grados y devuelva sus coordenadas cartesianas `(x, y)` ajustados a cuatro decimales usando la función interna `round(value, digits)`."
   ]
  },
  {
   "cell_type": "code",
   "execution_count": 41,
   "id": "3eb7663b",
   "metadata": {},
   "outputs": [
    {
     "name": "stdout",
     "output_type": "stream",
     "text": [
      "0.5 0.866\n"
     ]
    }
   ],
   "source": [
    "from math import pi, sin, cos\n",
    "from typing import Tuple\n",
    "\n",
    "\n",
    "def convert_polar_to_cartesian_coordinates(mod: float, ang: float) -> Tuple[float, float]:\n",
    "    \"\"\"\n",
    "    Convert Polar Coordinates to Cartesian Coordinates \n",
    "    \"\"\"\n",
    "    x = round(mod * cos(ang), 4)\n",
    "    y = round(mod * sin(ang), 4)\n",
    "    return x, y\n",
    "\n",
    "\n",
    "x, y = convert_polar_to_cartesian_coordinates(mod=1, ang=pi/3)\n",
    "print(x, y)"
   ]
  },
  {
   "cell_type": "markdown",
   "id": "0b75e83c",
   "metadata": {},
   "source": [
    "<a id=\"4-herramientas\"></a>\n",
    "### 4. Principales herramientas\n",
    "\n",
    "Las bibliotecas son conjuntos de código preescrito que contienen una variedad de funciones y métodos que se pueden utilizar en proyectos específicos. Debido a que muchas son de código abierto, los desarrolladores tienen acceso a ellas de forma gratuita y pueden personalizarlas para adaptarlas a sus necesidades. Además, las bibliotecas de software libre son mantenidas y actualizadas por la comunidad, lo que garantiza su continuidad y mejora constante. En el caso de `Python`, existen miles de bibliotecas de software libre disponibles para una amplia variedad de tareas, desde análisis de datos hasta desarrollo web y aprendizaje automático, lo que hace que `Python` sea una de las opciones más populares para la programación en la actualidad.\n",
    "\n",
    "<br>\n",
    "<p align=\"center\">\n",
    " <a target=\"_blank\">\n",
    "   <img width=\"800px\" src=\"https://i.imgur.com/M786UQ1.png\" alt=\"python-interpreter\">\n",
    " </a><br>\n",
    "</p><br>\n"
   ]
  },
  {
   "cell_type": "markdown",
   "id": "9d54a195",
   "metadata": {},
   "source": [
    "<a id=\"i-modulos-paquetes\"></a>\n",
    "### A. Bibliotecas, paquetes y módulos\n",
    "\n",
    "\n",
    "Una biblioteca de software es conformada por un conjunto de paquetes. Ahroa bien, un paquete es un conjunto organizado de módulos que agrupa funcionalidades relacionadas. Un módulo, por su parte, es un archivo con extensión `.py` que contiene código `Python` para realizar una tarea específica.\n",
    "\n",
    "En `Python`, los paquetes se organizan en una estructura de árbol de directorios. Cada paquete se almacena en un directorio que lleva el nombre del paquete, y dentro del directorio puede haber uno o más módulos o subpaquetes. Los paquetes se pueden importar y utilizar en otros proyectos de `Python`, lo que facilita la reutilización del código.\n",
    "\n",
    "Veamos una de las principales bibliotecas de `Python`; [`numpy`](https://numpy.org/):"
   ]
  },
  {
   "cell_type": "code",
   "execution_count": 42,
   "id": "ee82fb78",
   "metadata": {},
   "outputs": [
    {
     "data": {
      "image/png": "[encoded data removed]",
      "text/plain": [
       "<Figure size 640x480 with 1 Axes>"
      ]
     },
     "metadata": {},
     "output_type": "display_data"
    },
    {
     "data": {
      "image/png": "[encoded data removed]",
      "text/plain": [
       "<Figure size 640x480 with 1 Axes>"
      ]
     },
     "metadata": {},
     "output_type": "display_data"
    },
    {
     "data": {
      "image/png": "[encoded data removed]",
      "text/plain": [
       "<Figure size 640x480 with 1 Axes>"
      ]
     },
     "metadata": {},
     "output_type": "display_data"
    }
   ],
   "source": [
    "import numpy as np # We are importing the entire library and \"nicknaming\" it as \"np\"\n",
    "from numpy import random # Random is a numpy package\n",
    "from numpy.random import normal # normal is a random module\n",
    "import matplotlib.pyplot as plt\n",
    "\n",
    "\n",
    "random_var = normal(loc=0.0, scale=1.0, size=1000)\n",
    "plt.hist(random_var, bins=100)\n",
    "plt.title(\"From `mtrand` Module\")\n",
    "plt.show()\n",
    "\n",
    "random_var = random.normal(loc=0.0, scale=1.0, size=1000)\n",
    "plt.hist(random_var, bins=100)\n",
    "plt.title(\"From `random` Package\")\n",
    "plt.show()\n",
    "\n",
    "random_var = np.random.normal(loc=0.0, scale=1.0, size=1000)\n",
    "plt.hist(random_var, bins=100)\n",
    "plt.title(\"From `numpy` Library\")\n",
    "plt.show()"
   ]
  },
  {
   "cell_type": "markdown",
   "id": "8df6242f",
   "metadata": {},
   "source": [
    "Ahora, visualicemos una página de internet desde `Jupyter notebook` con la biblioteca `urllib` y el renderizador de [HTML](https://es.wikipedia.org/wiki/HTML) de `Jupyter`:"
   ]
  },
  {
   "cell_type": "code",
   "execution_count": 43,
   "id": "7dc5e24c",
   "metadata": {},
   "outputs": [
    {
     "data": {
      "text/html": [
       "<!doctype html><html itemscope=\"\" itemtype=\"http://schema.org/WebPage\" lang=\"es-419\"><head><meta content=\"text/html; charset=UTF-8\" http-equiv=\"Content-Type\"><meta content=\"/images/branding/googleg/1x/googleg_standard_color_128dp.png\" itemprop=\"image\"><title>Google</title><script nonce=\"aFn4XLXi8xPdF_cVpP-urg\">(function(){window.google={kEI:'4i4QZL33D4aTwt0P_dmy8AI',kEXPI:'0,1359409,6058,207,4804,2316,383,246,5,1129120,1197743,828,379919,16115,28684,22430,1362,12313,2822,1929,12835,4998,13226,3849,39333,1983,2891,3926,213,4210,3405,606,54144,12944,9358,3,576,6460,14123,4,1528,2304,42125,11445,2215,4437,9358,7428,5824,2533,4094,7596,1,11943,30211,2,39761,5679,1020,31122,4568,6259,23418,1252,5835,14968,4332,11,7473,445,2,2,1,6959,17667,2006,8155,7381,1401,78,14491,873,19632,8,1922,5784,3995,13880,7511,14763,6305,20199,5796,3,14337,14,82,20206,1622,1779,4976,3941,10950,4097,253,4134,988,3030,427,5684,1410,890,2685,4720,1804,563,6990,676,442,708,1088,5,1648,109,1128,449,2047,10527,454,5674,174,38,2,375,536,1360,1721,96,2066,670,1,1170,1068,512,699,264,593,202,1851,514,662,340,1106,87,100,1608,4192,2,1864,6,277,150,732,763,2827,395,50,630,565,189,195,134,4,4,401,822,2326,57,1240,411,71,5,648,30,254,4,235,1240,280,64,336,230,3,9,534,492,4,497,337,222,20,200,168,324,1511,87,416,281,2,333,6,203,41,632,174,109,171,7,190,118,128,740,5,678,332,629,16,247,267,451,788,2,842,714,1972,1,8,5221406,5928,145,207,8798843,3311,141,795,19735,1,1,346,4569,23945915,2738465,1303678,1964,16673,2893,512,5738,12560,1541,529,1416166,1044290274',kBL:'4Y1M'};google.sn='webhp';google.kHL='es-419';})();(function(){\n",
       "var f=this||self;var h,k=[];function l(a){for(var b;a&&(!a.getAttribute||!(b=a.getAttribute(\"eid\")));)a=a.parentNode;return b||h}function m(a){for(var b=null;a&&(!a.getAttribute||!(b=a.getAttribute(\"leid\")));)a=a.parentNode;return b}\n",
       "function n(a,b,c,d,g){var e=\"\";c||-1!==b.search(\"&ei=\")||(e=\"&ei=\"+l(d),-1===b.search(\"&lei=\")&&(d=m(d))&&(e+=\"&lei=\"+d));d=\"\";!c&&f._cshid&&-1===b.search(\"&cshid=\")&&\"slh\"!==a&&(d=\"&cshid=\"+f._cshid);c=c||\"/\"+(g||\"gen_204\")+\"?atyp=i&ct=\"+a+\"&cad=\"+b+e+\"&zx=\"+Date.now()+d;/^http:/i.test(c)&&\"https:\"===window.location.protocol&&(google.ml&&google.ml(Error(\"a\"),!1,{src:c,glmm:1}),c=\"\");return c};h=google.kEI;google.getEI=l;google.getLEI=m;google.ml=function(){return null};google.log=function(a,b,c,d,g){if(c=n(a,b,c,d,g)){a=new Image;var e=k.length;k[e]=a;a.onerror=a.onload=a.onabort=function(){delete k[e]};a.src=c}};google.logUrl=n;}).call(this);(function(){google.y={};google.sy=[];google.x=function(a,b){if(a)var c=a.id;else{do c=Math.random();while(google.y[c])}google.y[c]=[a,b];return!1};google.sx=function(a){google.sy.push(a)};google.lm=[];google.plm=function(a){google.lm.push.apply(google.lm,a)};google.lq=[];google.load=function(a,b,c){google.lq.push([[a],b,c])};google.loadAll=function(a,b){google.lq.push([a,b])};google.bx=!1;google.lx=function(){};}).call(this);google.f={};(function(){\n",
       "document.documentElement.addEventListener(\"submit\",function(b){var a;if(a=b.target){var c=a.getAttribute(\"data-submitfalse\");a=\"1\"===c||\"q\"===c&&!a.elements.q.value?!0:!1}else a=!1;a&&(b.preventDefault(),b.stopPropagation())},!0);document.documentElement.addEventListener(\"click\",function(b){var a;a:{for(a=b.target;a&&a!==document.documentElement;a=a.parentElement)if(\"A\"===a.tagName){a=\"1\"===a.getAttribute(\"data-nohref\");break a}a=!1}a&&b.preventDefault()},!0);}).call(this);</script><style>#gbar,#guser{font-size:13px;padding-top:1px !important;}#gbar{height:22px}#guser{padding-bottom:7px !important;text-align:right}.gbh,.gbd{border-top:1px solid #c9d7f1;font-size:1px}.gbh{height:0;position:absolute;top:24px;width:100%}@media all{.gb1{height:22px;margin-right:.5em;vertical-align:top}#gbar{float:left}}a.gb1,a.gb4{text-decoration:underline !important}a.gb1,a.gb4{color:#00c !important}.gbi .gb4{color:#dd8e27 !important}.gbf .gb4{color:#900 !important}\n",
       "</style><style>body,td,a,p,.h{font-family:arial,sans-serif}body{margin:0;overflow-y:scroll}#gog{padding:3px 8px 0}td{line-height:.8em}.gac_m td{line-height:17px}form{margin-bottom:20px}.h{color:#1558d6}em{font-weight:bold;font-style:normal}.lst{height:25px;width:496px}.gsfi,.lst{font:18px arial,sans-serif}.gsfs{font:17px arial,sans-serif}.ds{display:inline-box;display:inline-block;margin:3px 0 4px;margin-left:4px}input{font-family:inherit}body{background:#fff;color:#000}a{color:#4b11a8;text-decoration:none}a:hover,a:active{text-decoration:underline}.fl a{color:#1558d6}a:visited{color:#4b11a8}.sblc{padding-top:5px}.sblc a{display:block;margin:2px 0;margin-left:13px;font-size:11px}.lsbb{background:#f8f9fa;border:solid 1px;border-color:#dadce0 #70757a #70757a #dadce0;height:30px}.lsbb{display:block}#WqQANb a{display:inline-block;margin:0 12px}.lsb{background:url(/images/nav_logo229.png) 0 -261px repeat-x;border:none;color:#000;cursor:pointer;height:30px;margin:0;outline:0;font:15px arial,sans-serif;vertical-align:top}.lsb:active{background:#dadce0}.lst:focus{outline:none}</style><script nonce=\"aFn4XLXi8xPdF_cVpP-urg\">(function(){window.google.erd={jsr:1,bv:1758,de:true};\n",
       "var h=this||self;var k,l=null!=(k=h.mei)?k:1,n,p=null!=(n=h.sdo)?n:!0,q=0,r,t=google.erd,v=t.jsr;google.ml=function(a,b,d,m,e){e=void 0===e?2:e;b&&(r=a&&a.message);if(google.dl)return google.dl(a,e,d),null;if(0>v){window.console&&console.error(a,d);if(-2===v)throw a;b=!1}else b=!a||!a.message||\"Error loading script\"===a.message||q>=l&&!m?!1:!0;if(!b)return null;q++;d=d||{};b=encodeURIComponent;var c=\"/gen_204?atyp=i&ei=\"+b(google.kEI);google.kEXPI&&(c+=\"&jexpid=\"+b(google.kEXPI));c+=\"&srcpg=\"+b(google.sn)+\"&jsr=\"+b(t.jsr)+\"&bver=\"+b(t.bv);var f=a.lineNumber;void 0!==f&&(c+=\"&line=\"+f);var g=\n",
       "a.fileName;g&&(0<g.indexOf(\"-extension:/\")&&(e=3),c+=\"&script=\"+b(g),f&&g===window.location.href&&(f=document.documentElement.outerHTML.split(\"\\n\")[f],c+=\"&cad=\"+b(f?f.substring(0,300):\"No script found.\")));c+=\"&jsel=\"+e;for(var u in d)c+=\"&\",c+=b(u),c+=\"=\",c+=b(d[u]);c=c+\"&emsg=\"+b(a.name+\": \"+a.message);c=c+\"&jsst=\"+b(a.stack||\"N/A\");12288<=c.length&&(c=c.substr(0,12288));a=c;m||google.log(0,\"\",a);return a};window.onerror=function(a,b,d,m,e){r!==a&&(a=e instanceof Error?e:Error(a),void 0===d||\"lineNumber\"in a||(a.lineNumber=d),void 0===b||\"fileName\"in a||(a.fileName=b),google.ml(a,!1,void 0,!1,\"SyntaxError\"===a.name||\"SyntaxError\"===a.message.substring(0,11)||-1!==a.message.indexOf(\"Script error\")?3:0));r=null;p&&q>=l&&(window.onerror=null)};})();</script></head><body bgcolor=\"#fff\"><script nonce=\"aFn4XLXi8xPdF_cVpP-urg\">(function(){var src='/images/nav_logo229.png';var iesg=false;document.body.onload = function(){window.n && window.n();if (document.images){new Image().src=src;}\n",
       "if (!iesg){document.f&&document.f.q.focus();document.gbqf&&document.gbqf.q.focus();}\n",
       "}\n",
       "})();</script><div id=\"mngb\"><div id=gbar><nobr><b class=gb1>Bsqueda</b> <a class=gb1 href=\"http://www.google.com.co/imghp?hl=es-419&tab=wi\">Imgenes</a> <a class=gb1 href=\"http://maps.google.com.co/maps?hl=es-419&tab=wl\">Maps</a> <a class=gb1 href=\"https://play.google.com/?hl=es-419&tab=w8\">Play</a> <a class=gb1 href=\"https://www.youtube.com/?tab=w1\">YouTube</a> <a class=gb1 href=\"https://news.google.com/?tab=wn\">Noticias</a> <a class=gb1 href=\"https://mail.google.com/mail/?tab=wm\">Gmail</a> <a class=gb1 href=\"https://drive.google.com/?tab=wo\">Drive</a> <a class=gb1 style=\"text-decoration:none\" href=\"https://www.google.com.co/intl/es-419/about/products?tab=wh\"><u>Ms</u> &raquo;</a></nobr></div><div id=guser width=100%><nobr><span id=gbn class=gbi></span><span id=gbf class=gbf></span><span id=gbe></span><a href=\"http://www.google.com.co/history/optout?hl=es-419\" class=gb4>Historial web</a> | <a  href=\"/preferences?hl=es-419\" class=gb4>Preferencias</a> | <a target=_top id=gb_70 href=\"https://accounts.google.com/ServiceLogin?hl=es-419&passive=true&continue=http://www.google.com/&ec=GAZAAQ\" class=gb4>Acceder</a></nobr></div><div class=gbh style=left:0></div><div class=gbh style=right:0></div></div><center><br clear=\"all\" id=\"lgpd\"><div id=\"lga\"><img alt=\"Google\" height=\"92\" src=\"/images/branding/googlelogo/1x/googlelogo_white_background_color_272x92dp.png\" style=\"padding:28px 0 14px\" width=\"272\" id=\"hplogo\"><br><br></div><form action=\"/search\" name=\"f\"><table cellpadding=\"0\" cellspacing=\"0\"><tr valign=\"top\"><td width=\"25%\">&nbsp;</td><td align=\"center\" nowrap=\"\"><input name=\"ie\" value=\"ISO-8859-1\" type=\"hidden\"><input value=\"es-419\" name=\"hl\" type=\"hidden\"><input name=\"source\" type=\"hidden\" value=\"hp\"><input name=\"biw\" type=\"hidden\"><input name=\"bih\" type=\"hidden\"><div class=\"ds\" style=\"height:32px;margin:4px 0\"><input class=\"lst\" style=\"margin:0;padding:5px 8px 0 6px;vertical-align:top;color:#000\" autocomplete=\"off\" value=\"\" title=\"Buscar con Google\" maxlength=\"2048\" name=\"q\" size=\"57\"></div><br style=\"line-height:0\"><span class=\"ds\"><span class=\"lsbb\"><input class=\"lsb\" value=\"Buscar con Google\" name=\"btnG\" type=\"submit\"></span></span><span class=\"ds\"><span class=\"lsbb\"><input class=\"lsb\" id=\"tsuid_1\" value=\"Voy a tener suerte\" name=\"btnI\" type=\"submit\"><script nonce=\"aFn4XLXi8xPdF_cVpP-urg\">(function(){var id='tsuid_1';document.getElementById(id).onclick = function(){if (this.form.q.value){this.checked = 1;if (this.form.iflsig)this.form.iflsig.disabled = false;}\n",
       "else top.location='/doodles/';};})();</script><input value=\"AK50M_UAAAAAZBA88rF1nZCIw2vVd3jHMKLu5S5sHEX9\" name=\"iflsig\" type=\"hidden\"></span></span></td><td class=\"fl sblc\" align=\"left\" nowrap=\"\" width=\"25%\"><a href=\"/advanced_search?hl=es-419&amp;authuser=0\">Bsqueda avanzada</a></td></tr></table><input id=\"gbv\" name=\"gbv\" type=\"hidden\" value=\"1\"><script nonce=\"aFn4XLXi8xPdF_cVpP-urg\">(function(){var a,b=\"1\";if(document&&document.getElementById)if(\"undefined\"!=typeof XMLHttpRequest)b=\"2\";else if(\"undefined\"!=typeof ActiveXObject){var c,d,e=[\"MSXML2.XMLHTTP.6.0\",\"MSXML2.XMLHTTP.3.0\",\"MSXML2.XMLHTTP\",\"Microsoft.XMLHTTP\"];for(c=0;d=e[c++];)try{new ActiveXObject(d),b=\"2\"}catch(h){}}a=b;if(\"2\"==a&&-1==location.search.indexOf(\"&gbv=2\")){var f=google.gbvu,g=document.getElementById(\"gbv\");g&&(g.value=a);f&&window.setTimeout(function(){location.href=f},0)};}).call(this);</script></form><div id=\"gac_scont\"></div><div style=\"font-size:83%;min-height:3.5em\"><br></div><span id=\"footer\"><div style=\"font-size:10pt\"><div style=\"margin:19px auto;text-align:center\" id=\"WqQANb\"><a href=\"/intl/es-419/ads/\">Publicidad</a><a href=\"/services/\">Soluciones Empresariales</a><a href=\"/intl/es-419/about.html\">Todo acerca de Google</a><a href=\"http://www.google.com/setprefdomain?prefdom=CO&amp;prev=http://www.google.com.co/&amp;sig=K_fBi2pEJxoLdiG-cG3CjjaAV5Zus%3D\">Google.com.co</a></div></div><p style=\"font-size:8pt;color:#70757a\">&copy; 2023 - <a href=\"/intl/es-419/policies/privacy/\">Privacidad</a> - <a href=\"/intl/es-419/policies/terms/\">Condiciones</a></p></span></center><script nonce=\"aFn4XLXi8xPdF_cVpP-urg\">(function(){window.google.cdo={height:757,width:1440};(function(){var a=window.innerWidth,b=window.innerHeight;if(!a||!b){var c=window.document,d=\"CSS1Compat\"==c.compatMode?c.documentElement:c.body;a=d.clientWidth;b=d.clientHeight}a&&b&&(a!=google.cdo.width||b!=google.cdo.height)&&google.log(\"\",\"\",\"/client_204?&atyp=i&biw=\"+a+\"&bih=\"+b+\"&ei=\"+google.kEI);}).call(this);})();</script> <script nonce=\"aFn4XLXi8xPdF_cVpP-urg\">(function(){google.xjs={ck:'xjs.hp.Y2W3KAJ0Jco.L.X.O',cs:'ACT90oF6fFKP3NqTb-CWr4oWCMrcj1fkdA',excm:[]};})();</script>  <script nonce=\"aFn4XLXi8xPdF_cVpP-urg\">(function(){var u='/xjs/_/js/k\\x3dxjs.hp.en.AcjFwnTLgZA.O/am\\x3dAACgEwBAAYAF/d\\x3d1/ed\\x3d1/rs\\x3dACT90oH2zUVxruz8tIwzMmukkUURelbx6g/m\\x3dsb_he,d';var amd=0;\n",
       "var d=this||self,e=function(a){return a};var g;var l=function(a,b){this.g=b===h?a:\"\"};l.prototype.toString=function(){return this.g+\"\"};var h={};\n",
       "function m(){var a=u;google.lx=function(){p(a);google.lx=function(){}};google.bx||google.lx()}\n",
       "function p(a){google.timers&&google.timers.load&&google.tick&&google.tick(\"load\",\"xjsls\");var b=document;var c=\"SCRIPT\";\"application/xhtml+xml\"===b.contentType&&(c=c.toLowerCase());c=b.createElement(c);a=null===a?\"null\":void 0===a?\"undefined\":a;if(void 0===g){b=null;var k=d.trustedTypes;if(k&&k.createPolicy){try{b=k.createPolicy(\"goog#html\",{createHTML:e,createScript:e,createScriptURL:e})}catch(q){d.console&&d.console.error(q.message)}g=b}else g=b}a=(b=g)?b.createScriptURL(a):a;a=new l(a,h);c.src=\n",
       "a instanceof l&&a.constructor===l?a.g:\"type_error:TrustedResourceUrl\";var f,n;(f=(a=null==(n=(f=(c.ownerDocument&&c.ownerDocument.defaultView||window).document).querySelector)?void 0:n.call(f,\"script[nonce]\"))?a.nonce||a.getAttribute(\"nonce\")||\"\":\"\")&&c.setAttribute(\"nonce\",f);document.body.appendChild(c);google.psa=!0};google.xjsu=u;setTimeout(function(){0<amd?google.caft(function(){return m()},amd):m()},0);})();function _DumpException(e){throw e;}\n",
       "function _F_installCss(c){}\n",
       "(function(){google.jl={blt:'none',chnk:0,dw:false,dwu:true,emtn:0,end:0,ico:false,ikb:0,ine:false,injs:'none',injt:0,injth:0,injv2:false,lls:'default',pdt:0,rep:0,snet:true,strt:0,ubm:false,uwp:true};})();(function(){var pmc='{\\x22d\\x22:{},\\x22sb_he\\x22:{\\x22agen\\x22:true,\\x22cgen\\x22:true,\\x22client\\x22:\\x22heirloom-hp\\x22,\\x22dh\\x22:true,\\x22ds\\x22:\\x22\\x22,\\x22fl\\x22:true,\\x22host\\x22:\\x22google.com\\x22,\\x22jsonp\\x22:true,\\x22msgs\\x22:{\\x22cibl\\x22:\\x22Borrar bsqueda\\x22,\\x22dym\\x22:\\x22Quizs quisiste decir:\\x22,\\x22lcky\\x22:\\x22Voy a tener suerte\\x22,\\x22lml\\x22:\\x22Ms informacin\\x22,\\x22psrc\\x22:\\x22Se ha eliminado esta bsqueda de tu \\\\u003Ca href\\x3d\\\\\\x22/history\\\\\\x22\\\\u003EHistorial web\\\\u003C/a\\\\u003E\\x22,\\x22psrl\\x22:\\x22Eliminar\\x22,\\x22sbit\\x22:\\x22Buscar por imgenes\\x22,\\x22srch\\x22:\\x22Buscar con Google\\x22},\\x22ovr\\x22:{},\\x22pq\\x22:\\x22\\x22,\\x22rfs\\x22:[],\\x22sbas\\x22:\\x220 3px 8px 0 rgba(0,0,0,0.2),0 0 0 1px rgba(0,0,0,0.08)\\x22,\\x22stok\\x22:\\x22lRpvpeWDcqyZGdc9UY89QxVc-_k\\x22}}';google.pmc=JSON.parse(pmc);})();(function(){\n",
       "var b=function(a){var c=0;return function(){return c<a.length?{done:!1,value:a[c++]}:{done:!0}}},e=this||self;var g,h;a:{for(var k=[\"CLOSURE_FLAGS\"],l=e,n=0;n<k.length;n++)if(l=l[k[n]],null==l){h=null;break a}h=l}var p=h&&h[610401301];g=null!=p?p:!1;var q,r=e.navigator;q=r?r.userAgentData||null:null;function t(a){return g?q?q.brands.some(function(c){return(c=c.brand)&&-1!=c.indexOf(a)}):!1:!1}function u(a){var c;a:{if(c=e.navigator)if(c=c.userAgent)break a;c=\"\"}return-1!=c.indexOf(a)};function v(){return g?!!q&&0<q.brands.length:!1}function w(){return u(\"Safari\")&&!(x()||(v()?0:u(\"Coast\"))||(v()?0:u(\"Opera\"))||(v()?0:u(\"Edge\"))||(v()?t(\"Microsoft Edge\"):u(\"Edg/\"))||(v()?t(\"Opera\"):u(\"OPR\"))||u(\"Firefox\")||u(\"FxiOS\")||u(\"Silk\")||u(\"Android\"))}function x(){return v()?t(\"Chromium\"):(u(\"Chrome\")||u(\"CriOS\"))&&!(v()?0:u(\"Edge\"))||u(\"Silk\")}function y(){return u(\"Android\")&&!(x()||u(\"Firefox\")||u(\"FxiOS\")||(v()?0:u(\"Opera\"))||u(\"Silk\"))};var z=v()?!1:u(\"Trident\")||u(\"MSIE\");y();x();w();var A=!z&&!w(),D=function(a){if(/-[a-z]/.test(\"ved\"))return null;if(A&&a.dataset){if(y()&&!(\"ved\"in a.dataset))return null;a=a.dataset.ved;return void 0===a?null:a}return a.getAttribute(\"data-\"+\"ved\".replace(/([A-Z])/g,\"-$1\").toLowerCase())};var E=[],F=null;function G(a){a=a.target;var c=performance.now(),f=[],H=f.concat,d=E;if(!(d instanceof Array)){var m=\"undefined\"!=typeof Symbol&&Symbol.iterator&&d[Symbol.iterator];if(m)d=m.call(d);else if(\"number\"==typeof d.length)d={next:b(d)};else throw Error(\"a`\"+String(d));for(var B=[];!(m=d.next()).done;)B.push(m.value);d=B}E=H.call(f,d,[c]);if(a&&a instanceof HTMLElement)if(a===F){if(c=4<=E.length)c=5>(E[E.length-1]-E[E.length-4])/1E3;if(c){c=google.getEI(a);a.hasAttribute(\"data-ved\")?f=a?D(a)||\"\":\"\":f=(f=\n",
       "a.closest(\"[data-ved]\"))?D(f)||\"\":\"\";f=f||\"\";if(a.hasAttribute(\"jsname\"))a=a.getAttribute(\"jsname\");else{var C;a=null==(C=a.closest(\"[jsname]\"))?void 0:C.getAttribute(\"jsname\")}google.log(\"rcm\",\"&ei=\"+c+\"&ved=\"+f+\"&jsname=\"+(a||\"\"))}}else F=a,E=[c]}window.document.addEventListener(\"DOMContentLoaded\",function(){document.body.addEventListener(\"click\",G)});}).call(this);</script></body></html>"
      ],
      "text/plain": [
       "<IPython.core.display.HTML object>"
      ]
     },
     "metadata": {},
     "output_type": "display_data"
    }
   ],
   "source": [
    "from IPython.display import display, HTML\n",
    "import urllib.request\n",
    "\n",
    "\n",
    "with urllib.request.urlopen('http://google.com') as response:\n",
    "    response = response.read()\n",
    "    display(HTML(response.decode('utf-8', errors='ignore')))"
   ]
  },
  {
   "cell_type": "markdown",
   "id": "06462ef7",
   "metadata": {},
   "source": [
    "## Ejercicio 6\n",
    "\n",
    "Cree la misma variable aleatoria del ejemplo anterior, pero en lugar de graficar con la función histograma de matplotlib (i.e. `plt.hist()`), grafique con la función `displot` de `seaborn`. Si requiere información acerca de los parámetros de la función, consulte la documentación de `seaborn`."
   ]
  },
  {
   "cell_type": "code",
   "execution_count": 44,
   "id": "bb978aff",
   "metadata": {},
   "outputs": [
    {
     "data": {
      "image/png": "[encoded data removed]",
      "text/plain": [
       "<Figure size 500x500 with 1 Axes>"
      ]
     },
     "metadata": {},
     "output_type": "display_data"
    }
   ],
   "source": [
    "import numpy as np\n",
    "import seaborn as sns\n",
    "\n",
    "\n",
    "random_var = np.random.normal(loc=0.0, scale=1.0, size=1000)\n",
    "ax = sns.displot(random_var, kde=True, bins=80, color=\"#330ba1\")\n",
    "ax.fig.suptitle(\n",
    "    \"Random Variable with Gaussian Distrution Using `seaborn`\",\n",
    "    fontsize=12,\n",
    "    fontdict={\"weight\": \"bold\"},\n",
    ")\n",
    "ax.fig.legend([\"PDF\", \"Hist.\"], loc='center right', title='Random Variable')\n",
    "plt.show()"
   ]
  },
  {
   "cell_type": "markdown",
   "id": "4a39acac",
   "metadata": {},
   "source": [
    "<a id=\"ejercicios\"></a>\n",
    "## 5. Ejercicios caso práctico: \"Introducción a Python\"\n",
    "\n",
    "1. Sean A, B y C tres variables enteras que representan las ventas de tres productos respectivamente. Escriba expresiones lógicas (booleanas) que representen las siguientes afirmaciones:\n",
    "    - El producto A es el más vendido.\n",
    "    - El mínimo de número de unidades vendidas para cualquiera de los tres productos es superior a 300 unidades.\n",
    "    - Alguno de los tres productos tuvo ventas superiores a 1000 unidades.\n",
    "    - El promedio de ventas es superior a 700.\n",
    "    - El producto C no es el más vendido.\n",
    "\n",
    "\n",
    "2. Escribe un programa para el que dado un valor real, calcule $f(x)$ a partir de la función definida como:\n",
    "\n",
    "\n",
    "$$\n",
    "f(x) = \\begin{cases}\n",
    "    1 & \\text{if } x < -1, \\\\\n",
    "    -x & \\text{if } -1 <= x <= 1, \\\\\n",
    "    -1 & \\text{de cualquier otra manera.}\n",
    "\\end{cases}\n",
    "$$\n",
    "\n",
    "\n",
    "3. Una empresa desea calcular la estimación del aporte de impuestos que los empleados deben pagar. Para los ingresos inferiores a 9000 USD no aplica dicho recaudo. Para los comprendidos entre [9000, 20000) USD, el recaudo es del 17%. En cuanto a los comprendidos entre [20000, 40000) USD, están sujetos al 28%. Finalmente, para quienes tienen ingresos iguales o superiores a 40000 USD, el aporte es de 40%. Implemente una función `taxes(income)` que calcule los impuestos correspondientes a los ingresos del colaborador. Redondee la salida a dos cifras después de la coma.\n",
    "\n",
    "    - Un par de ejemplos para las entradas y salidas de la función son:\n",
    "\n",
    "        ```python\n",
    "        In [6]: taxes(income=15000)\n",
    "        Out[6]: 2550.0\n",
    "        In [7]: impuestos(income=75260)\n",
    "        Out[7]: 30104.0\n",
    "        ```\n",
    "    - **Nota:** Tenga en cuenta que $[a, b]$ hace referencia a un intervalo cerrado, mientras que $(a,b)$ es un intervalo abierto. Cuando se dice que el intervalo es cerrado, entonces el valor del límite está incluido mientras que cuando es abierto, el valor del límite no lo está."
   ]
  },
  {
   "cell_type": "markdown",
   "id": "af06e930",
   "metadata": {},
   "source": [
    "<a id='referencias'></a>\n",
    "## Referencias\n",
    "\n",
    "[1] Matthes, E. (2019). *Python crash course: A hands-on, project-based introduction to programming.* no starch press.\n",
    "\n",
    "[2] Downey, A. (2015). *Think python: How to Think Like a Computer Scientist.* \"O'Reilly Media, Inc.\". \n",
    "\n",
    "[3] Johansson, R. *Numerical Python: Scientific Computing and Data Science Applications with Numpy, SciPy and Matplotlib*. Apress, Berkeley, 2019."
   ]
  },
  {
   "cell_type": "markdown",
   "id": "fd7e75d7",
   "metadata": {},
   "source": [
    "<a id='contribuir'></a>\n",
    "## Contribuir\n",
    "\n",
    "<p>Para correcciones, <i>bugs</i> o sugerencias, por favor escribe a <a href=\"mailto:joseph@guane.com.co\">info@joefaver.dev</a> o directamente en el repositorio.</p>"
   ]
  }
 ],
 "metadata": {
  "kernelspec": {
   "display_name": "pbs",
   "language": "python",
   "name": "pbs"
  },
  "language_info": {
   "codemirror_mode": {
    "name": "ipython",
    "version": 3
   },
   "file_extension": ".py",
   "mimetype": "text/x-python",
   "name": "python",
   "nbconvert_exporter": "python",
   "pygments_lexer": "ipython3",
   "version": "3.9.13"
  }
 },
 "nbformat": 4,
 "nbformat_minor": 5
}
